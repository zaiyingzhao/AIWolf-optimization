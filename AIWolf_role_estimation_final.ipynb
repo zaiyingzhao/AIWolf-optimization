{
  "cells": [
    {
      "cell_type": "markdown",
      "metadata": {
        "id": "XYViTRKG2q6j"
      },
      "source": [
        "# Amplify SDKを用いた人狼ゲームにおける役職推定"
      ]
    },
    {
      "cell_type": "markdown",
      "metadata": {
        "id": "oxr1eNit2q6k"
      },
      "source": [
        "## はじめに"
      ]
    },
    {
      "cell_type": "markdown",
      "metadata": {
        "id": "EDD5lmnF2q6k"
      },
      "source": [
        "このドキュメントでは人狼というパーティーゲームをテーマにした最適化問題を取り扱っています。人狼の基本ルールをベースに話を進めていきますが基本ルールを知らない方は最初にこちらのサイトをご参照ください。   \n",
        "[【はじめてのじんろう】人狼を全く知らない初心者のための簡単ルール・説明書](https://www.bodoge-intl.com/list/insapo/hazimete/)"
      ]
    },
    {
      "cell_type": "markdown",
      "metadata": {
        "id": "PboFiOJx2q6k"
      },
      "source": [
        "人狼ゲームは他プレイヤーの役職が伏せられた状態で適切な行動を選択する必要があります。このプログラムでは全プレイヤーの行動履歴（以降ログとする）から論理的に推定できることやプレイヤー間の関係などを基に現段階で最も適切な役職推定を提供することを目指します。   "
      ]
    },
    {
      "cell_type": "markdown",
      "metadata": {
        "id": "Jqyilu472q6k"
      },
      "source": [
        "今回は対人において立ち回りがより複雑な多人数での人狼ゲームを想定し、15人対戦における役職推定を行います。   \n",
        "役職配分は以下で定義しているように村人陣営11人（村人8人, 占い師1人, 霊媒師1人, 守護者1人）, 人狼陣営4人（人狼3人, 狂人1人）という構成とします。"
      ]
    },
    {
      "cell_type": "code",
      "execution_count": null,
      "metadata": {
        "id": "hDpQSiEt2q6l"
      },
      "outputs": [],
      "source": [
        "n_role = 6  # 役職数\n",
        "n_player = 15  # プレイヤー数\n",
        "n_villager = 8  # 村人の人数\n",
        "n_seer = 1  # 占い師の人数\n",
        "n_medium = 1  # 霊媒師の人数\n",
        "n_guard = 1  # 守護者の人数\n",
        "n_werewolf = 3  # 人狼の人数\n",
        "n_possessed = 1  # 狂人の人数\n"
      ]
    },
    {
      "cell_type": "markdown",
      "metadata": {
        "id": "7k35P7bJ2q6l"
      },
      "source": [
        "## ログについて"
      ]
    },
    {
      "cell_type": "markdown",
      "metadata": {
        "id": "yS2aFTyr2q6l"
      },
      "source": [
        "初めにログを確認してみます。人狼知能国際大会ではAI同士の対戦ログを取得することができ, 今回はそれを用いることにします。   \n",
        "ここではgameディレクトリにあるsample.logを試しに見てみます。"
      ]
    },
    {
      "cell_type": "code",
      "execution_count": null,
      "metadata": {
        "id": "N7_kpbgC7MHY"
      },
      "outputs": [],
      "source": [
        "# 必要に応じて実行してください\n",
        "# !pip install pandas"
      ]
    },
    {
      "cell_type": "code",
      "execution_count": null,
      "metadata": {
        "colab": {
          "base_uri": "https://localhost:8080/"
        },
        "id": "FtLyn8-Z2q6l",
        "outputId": "1a003586-fec9-46ee-a2bc-fac5d67c65c0"
      },
      "outputs": [
        {
          "name": "stdout",
          "output_type": "stream",
          "text": [
            "     day   class   a          b         c           d\n",
            "0      0  status   1       SEER     ALIVE    tonkatsu\n",
            "1      0  status   2  BODYGUARD     ALIVE        KP22\n",
            "2      0  status   3   WEREWOLF     ALIVE     kgu_ryu\n",
            "3      0  status   4   VILLAGER     ALIVE    sUper_IL\n",
            "4      0  status   5   WEREWOLF     ALIVE      daphne\n",
            "..   ...     ...  ..        ...       ...         ...\n",
            "766    4  status  12   VILLAGER     ALIVE    takoyaki\n",
            "767    4  status  13   VILLAGER     ALIVE  CanisLupus\n",
            "768    4  status  14   VILLAGER     ALIVE         ioh\n",
            "769    4  status  15   WEREWOLF      DEAD      Basket\n",
            "770    4  result  12          0  VILLAGER         NaN\n",
            "\n",
            "[771 rows x 6 columns]\n"
          ]
        }
      ],
      "source": [
        "import pandas as pd\n",
        "\n",
        "df = pd.read_csv(\"./game/sample.log\")\n",
        "print(df)\n"
      ]
    },
    {
      "cell_type": "markdown",
      "metadata": {
        "id": "xIbVLJSr2q6m"
      },
      "source": [
        "ここでdayは人狼ゲームにおける日にち, classは情報の種類を表しています。他にも情報の種類にはstatus(プレイヤー番号, 役職および生存情報)の他にwhisper(人狼同士の会話で他プレイヤーに公開されない), talk（昼の話し合い内容）, vote（各プレイヤーの追放者投票）などがあります。   \n",
        "特にログの大半はtalkで占められています。下のコードを実行することで1日目のtalk内容を確認することができます。"
      ]
    },
    {
      "cell_type": "code",
      "execution_count": null,
      "metadata": {
        "colab": {
          "base_uri": "https://localhost:8080/"
        },
        "id": "kCY5dmdD2q6m",
        "outputId": "c386a917-38a8-462a-aac5-af46dfa1c14d"
      },
      "outputs": [
        {
          "name": "stdout",
          "output_type": "stream",
          "text": [
            "     day class    a   b   c                            d\n",
            "43     1  talk    0   0   6               VOTE Agent[01]\n",
            "44     1  talk    1   0   8               VOTE Agent[01]\n",
            "45     1  talk    2   0   3     COMINGOUT Agent[03] SEER\n",
            "46     1  talk    3   0  14  ESTIMATE Agent[06] WEREWOLF\n",
            "47     1  talk    4   0   5                         Skip\n",
            "..   ...   ...  ...  ..  ..                          ...\n",
            "233    1  talk  190  12   6                         Over\n",
            "234    1  talk  191  12  11                         Over\n",
            "235    1  talk  192  12   1                         Over\n",
            "236    1  talk  193  12   7                         Over\n",
            "237    1  talk  194  12  15                         Over\n",
            "\n",
            "[195 rows x 6 columns]\n"
          ]
        }
      ],
      "source": [
        "df_day1 = df[df[\"day\"] == 1]\n",
        "print(df_day1[df_day1[\"class\"] == \"talk\"])\n"
      ]
    },
    {
      "cell_type": "markdown",
      "metadata": {
        "id": "STBXnQYF2q6n"
      },
      "source": [
        "ここでaはtalkのindex, bはターン数（1ターンで全員発言してから次のターンに移る）, cは発言者のプレイヤー番号, dは発言内容を表しています。   \n",
        "特に発言内容については様々な種類があり主要なものとして   \n",
        "- estimate（個人による他プレイヤーの役職推定）   \n",
        "- comingout（主に役職持ちが自身の役職の公開に用いる, 人狼の騙りCOの可能性も）   \n",
        "- divined（占い師（人狼の騙り含む）による占い結果報告, 対象指定メソッドの情報公開）   \n",
        "- identified （霊媒師（人狼の騙り含む）による前ターン追放者の陣営公開)   \n",
        "- guarded（護衛報告, 対象指定メソッドの情報公開）   \n",
        "- vote（投票先の事前宣言）\n",
        "\n",
        "があります。   "
      ]
    },
    {
      "cell_type": "markdown",
      "metadata": {
        "id": "_4wdNu-z2q6n"
      },
      "source": [
        "## 役職推定方針"
      ]
    },
    {
      "cell_type": "markdown",
      "metadata": {
        "id": "fPj24t_02q6n"
      },
      "source": [
        "今回は以上の内容で構成されているログを用い, 以下の3つの最適化を通じて役職推定を行うことにします。   \n",
        "\n",
        "1. ログからプレイヤー同士の関係値や人狼としての怪しさを構築し, max-cut問題（グループ分け問題）として最適化を行うことで全プレイヤーから人狼を抽出する   \n",
        "\n",
        "2. 人狼以外のプレイヤーの中でmax-cut問題を解くことで人狼以外のプレイヤーの中から狂人を抽出する   \n",
        "\n",
        "3. ログから各プレイヤーが他プレイヤーをどの役職だと推測しているかを解釈し, 組み合わせ最適化問題として残った村人陣営中での役職推定を行う。   "
      ]
    },
    {
      "cell_type": "markdown",
      "metadata": {
        "id": "zJIumfhb2q6n"
      },
      "source": [
        "### 1. について"
      ]
    },
    {
      "cell_type": "markdown",
      "metadata": {
        "id": "CRReebaB2q6n"
      },
      "source": [
        "全プレイヤーから人狼を3人抽出するmax-cut問題について考えます。   \n",
        "プレイヤー同士の敵対度を表す15×15の2次元配列をhatredとし, 行動の人狼らしさ（怪しさ）を表す長さ15の1次元配列をwolf_likelyとします（ここでhatred, wolf_likelyの各要素は0~1の実数値をとることにします）。   \n",
        "またここで最適化を行う長さ15の1次元バイナリ変数配列をwolf_divisionとすれば, max-cut問題の定式化に人狼としての怪しさを加味することで目的関数cost_wolfは以下のように構築することができます。\n",
        "\n",
        "$$ cost\\_wolf = \\sum_{i} \\sum_{j} hatred[i][j] \\bigl(2wolf\\_division[i]-1\\bigr)\\bigl(2wolf\\_division[j]-1\\bigr) - \\sum_{i} wolf\\_likely[i](2wolf\\_division[i] -1) $$\n",
        "\n",
        ">※一般的にmax-cut問題はIsing模型で表現されますが今回は各最適化で用いる変数種を統一するために目的関数は全てQUBO模型として構築されています。Ising模型で目的関数を構築すると以下のようになります。\n",
        ">$$ cost\\_wolf = \\sum_{i} \\sum_{j} hatred[i][j]s[i]s[j] \n",
        "- \\sum_{i} wolf\\_likely[i]s[i] $$\n",
        "\n",
        "\n",
        "この目的関数を最小化することを目指すことにより人狼として怪しい行動をし, かつ多くのプレイヤーと敵対的な関係にあるプレイヤーが抽出できることになります。"
      ]
    },
    {
      "cell_type": "code",
      "execution_count": null,
      "metadata": {
        "id": "eZlQbJoj5JVV"
      },
      "outputs": [],
      "source": [
        "# 必要に応じて実行してください\n",
        "# !pip install amplify"
      ]
    },
    {
      "cell_type": "code",
      "execution_count": null,
      "metadata": {
        "id": "xuaablpJ2q6n"
      },
      "outputs": [],
      "source": [
        "from amplify import BinarySymbolGenerator\n",
        "\n",
        "gen = BinarySymbolGenerator()\n",
        "wolf_division = gen.array(n_player)"
      ]
    },
    {
      "cell_type": "markdown",
      "metadata": {
        "id": "QvXZg_pN2q6o"
      },
      "source": [
        "### 2. について"
      ]
    },
    {
      "cell_type": "markdown",
      "metadata": {
        "id": "DG8njnWv2q6o"
      },
      "source": [
        "続いて人狼以外の12人のプレイヤーから狂人と考えられる人を抽出するmax-cut問題について考えます。   \n",
        "狂人は人狼陣営に属しており人狼が勝利できるような行動をとる傾向にあるため, 全プレイヤーから人狼を抽出するmax-cut問題と同じ目的関数をとることで狂人を抽出することを目指します。   \n",
        "ここでの最適化を行う長さ15の1次元バイナリ変数配列をpossessed_divisionとすれば, 目的関数cost_possessedは1. と同様に\n",
        "$$ cost\\_possessed = \\sum_{i} \\sum_{j} hatred[i][j] \\bigl(2*possessed\\_division[i]-1\\bigr) * \\bigl(2*possessed\\_division[j]-1\\bigr) - \\sum_{i} wolf\\_likely[i] * (2*possessed\\_division[i] -1) $$\n",
        "と定義することにします。"
      ]
    },
    {
      "cell_type": "code",
      "execution_count": null,
      "metadata": {
        "id": "GGUWwZ3B2q6o"
      },
      "outputs": [],
      "source": [
        "possessed_division = gen.array(n_player)"
      ]
    },
    {
      "cell_type": "markdown",
      "metadata": {
        "id": "ziZqK8no2q6o"
      },
      "source": [
        "### 3について"
      ]
    },
    {
      "cell_type": "markdown",
      "metadata": {
        "id": "ENdmNhoE2q6o"
      },
      "source": [
        "最後に村人陣営11人からそれぞれの役職を推定する最適化について定式化を目指します。   \n",
        "ここで新たに各プレイヤーが他プレイヤーに対してある役職だと推定している度合いを6×15×15の3次元配列assumption_arrayに格納することを考えます。   \n",
        "（各要素は0~1の実数値をとるとします。例えば, assumption_array[role_index][i][j]=1 のときプレイヤーiはプレイヤーjをrole_indexに対応する役職だと確信していることになります）   \n",
        "また最適化を行う6×15の2次元バイナリ変数配列をrole_divisionとすると, 2乗誤差を考えることにより目的関数cost_roleは\n",
        "$$ cost\\_role = \\sum_{role} \\sum_{i} \\sum_{j} \\bigl(role\\_division[role][j] - assumption\\_array[role][i][j] \\bigr) ^2 $$\n",
        "と表すことができます。"
      ]
    },
    {
      "cell_type": "code",
      "execution_count": null,
      "metadata": {
        "id": "zZOuR8z12q6o"
      },
      "outputs": [],
      "source": [
        "role_estimation = gen.array(n_role, n_player)"
      ]
    },
    {
      "cell_type": "markdown",
      "metadata": {
        "id": "fSCyh48Y2q6o"
      },
      "source": [
        "## ログの解釈"
      ]
    },
    {
      "cell_type": "markdown",
      "metadata": {
        "id": "lwwjNR0J2q6o"
      },
      "source": [
        "続いて実際のログから先程の役職推定方針にて定義した配列を構築することを考えます。   "
      ]
    },
    {
      "cell_type": "markdown",
      "metadata": {
        "id": "qg6gziVE2q6o"
      },
      "source": [
        "### 辞書の定義\n",
        "初めにログの解釈にあたり必要な辞書を定義します。必要に応じて参照する程度で問題ありません。"
      ]
    },
    {
      "cell_type": "code",
      "execution_count": null,
      "metadata": {
        "id": "pKCTqpiZ2q6o"
      },
      "outputs": [],
      "source": [
        "# 役職に対応する役職インデックスを返す辞書\n",
        "dic = {\n",
        "    \"VILLAGER\": 0,\n",
        "    \"SEER\": 1,\n",
        "    \"BODYGUARD\": 2,\n",
        "    \"MEDIUM\": 3,\n",
        "    \"WEREWOLF\": 4,\n",
        "    \"POSSESSED\": 5,\n",
        "    \"HUMAN\": 0,\n",
        "}\n",
        "\n",
        "# 役職インデックスに対応する役職を返す辞書\n",
        "dic2 = {\n",
        "    0: \"VILLAGER\",\n",
        "    1: \"SEER\",\n",
        "    2: \"BODYGUARD\",\n",
        "    3: \"MEDIUM\",\n",
        "    4: \"WEREWOLF\",\n",
        "    5: \"POSSESSED\",\n",
        "}\n",
        "\n",
        "# 陣営を分ける辞書\n",
        "dic_camp = {\n",
        "    \"VILLAGER\": 0,\n",
        "    \"SEER\": 0,\n",
        "    \"BODYGUARD\": 0,\n",
        "    \"MEDIUM\": 0,\n",
        "    \"WEREWOLF\": 1,\n",
        "    \"POSSESSED\": 1,\n",
        "    \"HUMAN\": 0,\n",
        "}\n",
        "\n",
        "# human/werewolfを分ける辞書\n",
        "dic_wolf = {\n",
        "    \"VILLAGER\": 0,\n",
        "    \"SEER\": 0,\n",
        "    \"BODYGUARD\": 0,\n",
        "    \"MEDIUM\": 0,\n",
        "    \"WEREWOLF\": 1,\n",
        "    \"POSSESSED\": 0,\n",
        "    \"HUMAN\": 0,\n",
        "}\n"
      ]
    },
    {
      "cell_type": "markdown",
      "metadata": {
        "id": "9AEewLLK2q6p"
      },
      "source": [
        "### ログから必要な情報を抽出する"
      ]
    },
    {
      "cell_type": "markdown",
      "metadata": {
        "id": "6XcN8Czx2q6p"
      },
      "source": [
        "続いてログから各プレイヤーの日ごとの生存情報を格納するstatus_list, 各日の各プレイヤーの投票対象を格納するvote_list, 襲撃されたプレイヤー情報を格納するattacked_list, 各プレイヤーの実際の役職を格納するtrue_role(辞書) / role_list(リスト), 確実の会話内容を格納するtalk_listを作成します。   \n",
        "これらの情報は具体的に各プレイヤーの行動を解釈する際に用いられます。"
      ]
    },
    {
      "cell_type": "code",
      "execution_count": null,
      "metadata": {
        "id": "1pWgcqCE2q6p"
      },
      "outputs": [],
      "source": [
        "df_list = []\n",
        "status_list_tmp = []\n",
        "vote_list = []\n",
        "attacked_list = []\n",
        "role_list = [[0 for _ in range(n_player)] for _ in range(n_role)]\n",
        "talk_list = []\n",
        "\n",
        "# 日にち毎にdataframeを分割\n",
        "day = 0\n",
        "while True:\n",
        "    if df[df[\"day\"] == day].empty:\n",
        "        break\n",
        "    else:\n",
        "        df_list.append(df[df[\"day\"] == day])\n",
        "        day += 1\n",
        "\n",
        "# status_list作成\n",
        "for i in range(day):\n",
        "    status_list_tmp.append(df_list[i][df_list[i][\"class\"] == \"status\"].values)\n",
        "\n",
        "status_list = [[1 for _ in range(n_player)] for _ in range(day)]\n",
        "\n",
        "for i in range(day):\n",
        "    for j in range(n_player):\n",
        "        if status_list_tmp[i][j][4] == \"DEAD\":\n",
        "            status_list[i][j] = 0\n",
        "\n",
        "# vote_list作成（インデックス注意、0日目と最終日にvoteは存在しない）\n",
        "for i in range(day):\n",
        "    vote_list.append(df_list[i][df_list[i][\"class\"] == \"vote\"].values)\n",
        "\n",
        "# attacked_list作成(インデックス注意、0日目と最終日にattackは存在しない)\n",
        "for i in range(day):\n",
        "    attacked_list.append(df_list[i][df_list[i][\"class\"] == \"attack\"].values)\n",
        "\n",
        "# true_role, role_list作成\n",
        "df_status_list = status_list_tmp[0]\n",
        "\n",
        "true_role = {}\n",
        "for i in range(len(df_status_list)):\n",
        "    true_role[i] = df_status_list[i][3]\n",
        "\n",
        "for i in range(len(status_list[0])):\n",
        "    role_list[dic[df_status_list[i][3]]][df_status_list[i][2] - 1] = 1\n",
        "\n",
        "# day1以降のdataframeについて不必要なclassおよびカラムを削除\n",
        "for i in range(1, day - 1):\n",
        "    df_list[i] = df_list[i][df_list[i][\"class\"] == \"talk\"]\n",
        "    drop_col = [\"day\", \"class\", \"a\", \"b\"]\n",
        "    talk_list.append(\n",
        "        df_list[i]\n",
        "        .drop(drop_col, axis=1)\n",
        "        .rename(columns={\"c\": \"playernum\", \"d\": \"action\"})\n",
        "    )"
      ]
    },
    {
      "cell_type": "markdown",
      "metadata": {
        "id": "47ISfGzc2q6p"
      },
      "source": [
        "以上でログの解釈に必要な情報を抽出することができました。例えば実際にattacked_listを出力してみると"
      ]
    },
    {
      "cell_type": "code",
      "execution_count": null,
      "metadata": {
        "colab": {
          "base_uri": "https://localhost:8080/"
        },
        "id": "H38jA3qz2q6p",
        "outputId": "416e34dc-3c1b-4ee2-ff6a-eaf00e9aa368"
      },
      "outputs": [
        {
          "name": "stdout",
          "output_type": "stream",
          "text": [
            "[array([], shape=(0, 6), dtype=object), array([[1, 'attack', 1, 'false', nan, nan]], dtype=object), array([[2, 'attack', 1, 'false', nan, nan]], dtype=object), array([], shape=(0, 6), dtype=object), array([], shape=(0, 6), dtype=object)]\n"
          ]
        }
      ],
      "source": [
        "print(attacked_list)"
      ]
    },
    {
      "cell_type": "markdown",
      "metadata": {
        "id": "Ykx_vTy12q6p"
      },
      "source": [
        "何日目にどの番号のプレイヤーが襲撃されているかを確認することができます。  \n",
        ">'true'の場合襲撃され死亡, 'false'の場合襲撃されたが守護者に守られ生存していることを表しています。"
      ]
    },
    {
      "cell_type": "markdown",
      "metadata": {
        "id": "tYmCWXZf2q6p"
      },
      "source": [
        "### 各プレイヤーの行動をどのように解釈するか"
      ]
    },
    {
      "cell_type": "markdown",
      "metadata": {
        "id": "4NBSj3cI2q6q"
      },
      "source": [
        "#### 会話内容の解釈について\n",
        "初めにtalk_listに格納されている各日のプレイヤーの発言内容を解釈していくことを考えます。   \n",
        "ログについての部分で説明した主要な発言内容について, 解釈の方法を以下で説明します。"
      ]
    },
    {
      "cell_type": "markdown",
      "metadata": {
        "id": "KDid8GQn2q6q"
      },
      "source": [
        ">以下具体的に加算する値については局所探索によって精度がより高くなるように決定しています。詳細については冗長になってしまうため省略します。"
      ]
    },
    {
      "cell_type": "markdown",
      "metadata": {
        "id": "pnQVNDm02q6q"
      },
      "source": [
        "##### voteについて\n",
        "会話フェーズにおけるvoteはこの日の投票フェーズでの投票先宣言を表しているため, 発言者は発言先を人狼陣営だと認識していることになります。よってassumption_arrayの該当要素を加算します。   \n",
        "また投票宣言は相手を敵対的に認識している表れだと考えられるため該当hatred要素についても加算します。"
      ]
    },
    {
      "cell_type": "code",
      "execution_count": null,
      "metadata": {
        "id": "yeVRuRR-2q6q"
      },
      "outputs": [],
      "source": [
        "# Agent[05]などのテキストからプレイヤー番号を取り出す関数\n",
        "def agentnum(text):\n",
        "    n = text[6] + text[7]\n",
        "    return int(n)\n",
        "\n",
        "\n",
        "def vote_declaration(a, talk_player, assumption_array, hatred):\n",
        "    assumption_array[4][talk_player][agentnum(a[1]) - 1] += 0.2\n",
        "    assumption_array[5][talk_player][agentnum(a[1]) - 1] += 0.2\n",
        "    hatred[talk_player][agentnum(a[1]) - 1] += 0.1"
      ]
    },
    {
      "cell_type": "markdown",
      "metadata": {
        "id": "TWi1lPWn2q6q"
      },
      "source": [
        "##### comingoutについて\n",
        "自身の役職をカミングアウトすることは発言者が自身をその役職だと確信していると換言することができます。そのためassumption_arrayの該当要素に1を加算します。   \n",
        ">assumption_arrayは各日にちの最後に規格化されています。  \n",
        "   \n",
        "また他プレイヤーは発言者のCO役職及び偽物の可能性を意識することになるため, 各プレイヤーの発言者に対するCO役職/狂人/人狼だと認識する度合いについて加算します。"
      ]
    },
    {
      "cell_type": "code",
      "execution_count": null,
      "metadata": {
        "id": "Fp8vIZBP2q6q"
      },
      "outputs": [],
      "source": [
        "def comingout(a, talk_player, assumption_array, CO_list):\n",
        "    CO_list[talk_player] = dic[a[2]]\n",
        "    assumption_array[dic[a[2]]][talk_player][talk_player] += 1\n",
        "    for player in range(n_player):\n",
        "        if player != talk_player:\n",
        "            assumption_array[dic[a[2]]][player][talk_player] += 0.4\n",
        "            assumption_array[4][player][talk_player] += 0.4\n",
        "            assumption_array[5][player][talk_player] += 0.4\n"
      ]
    },
    {
      "cell_type": "markdown",
      "metadata": {
        "id": "lCzYx1is2q6q"
      },
      "source": [
        "##### divined\n",
        "占い結果報告は前日の段階での占い師のCO人数によって解釈が異なります。   \n",
        "\n",
        "\n",
        "- 占い師のCO人数が前日の段階で2人以上のとき, 騙り占い師が偽の結果報告をしている可能性があるため自身及び発言者を占い師だと信用しているプレイヤーに対してassumption_arrayの該当要素を加算します。また真偽は定かではないですが占い結果に応じて占われたプレイヤーの人狼らしさを増減させます。\n",
        "- 占い師のCO人数が前日の段階で1人のとき, 全員に対してassumption_arrayの情報更新を行います。また占い結果が人間の場合はそのプレイヤーが人狼でないことが確定し, 人狼の場合は逆に人狼であることが確定するためrole_estimation及びwolf_divisionに変数代入を行います。最後に変数代入された内容が自身の認識と矛盾していた（例：人狼だと認識していたプレイヤーの役職が人狼ではないことが判明した）場合についてはassumption_arrayの該当要素の修正を行います。   \n",
        ">占い結果報告は役職COに翌日以降に行われます。"
      ]
    },
    {
      "cell_type": "code",
      "execution_count": null,
      "metadata": {
        "id": "jq0UK_uD2q6q"
      },
      "outputs": [],
      "source": [
        "# 指定された役職のCO人数を返す関数\n",
        "def comingout_num(roleindex, assumption_array):\n",
        "    count = 0\n",
        "    for i in range(n_player):\n",
        "        if assumption_array[roleindex][i][i] >= 1:\n",
        "            count += 1\n",
        "    return count\n",
        "\n",
        "\n",
        "# 判明した真の役職について反対の陣営だと少しでも認識していたプレイヤーの該当要素を修正する関数\n",
        "def change_recognition(assumption_array, role, playernum):\n",
        "    if dic_camp[role] == 0:  # 追放者が村人陣営\n",
        "        for role_index in range(4, 6):\n",
        "            for i in range(n_player):\n",
        "                # 人狼陣営だと思っていればその要素を0に更新\n",
        "                if assumption_array[role_index][i][playernum] > 0:\n",
        "                    assumption_array[role_index][i][playernum] = 0\n",
        "    else:  # 追放者が人狼陣営\n",
        "        for role_index in range(4):\n",
        "            for i in range(n_player):\n",
        "                # 村人陣営だと思っていればその要素を0に更新\n",
        "                if assumption_array[role_index][i][playernum] > 0:\n",
        "                    assumption_array[role_index][i][playernum] = 0\n",
        "\n",
        "\n",
        "def divined(\n",
        "    a, talk_player, assumption_array, wolf_likely, wolf_division, role_estimation\n",
        "):\n",
        "    # 発言者は自身を占い師だと認識\n",
        "    assumption_array[1][talk_player][talk_player] += 1\n",
        "    if comingout_num(1, assumption_array) >= 2:\n",
        "        # 占い師COが複数人いる場合騙りの可能性があるため発言者および発言者を占い師だと思っているプレイヤーに関して情報更新を行う\n",
        "        assumption_array[dic[a[2]]][talk_player][agentnum(a[1]) - 1] += 1\n",
        "        for player in range(n_player):\n",
        "            if (\n",
        "                player != agentnum(a[1]) - 1\n",
        "                and assumption_array[1][player][talk_player] >= 1\n",
        "            ):\n",
        "                assumption_array[dic[a[2]]][player][agentnum(a[1]) - 1] += 1\n",
        "\n",
        "        # 真偽は分からないが少しだけ人狼らしさを加減する\n",
        "        if dic_wolf[a[2]] == 0:\n",
        "            wolf_likely[agentnum(a[1]) - 1] -= 0.1\n",
        "        else:\n",
        "            wolf_likely[agentnum(a[1]) - 1] += 0.5\n",
        "    else:\n",
        "        # 全員に対して情報更新を行う\n",
        "        for player in range(n_player):\n",
        "            if player != agentnum(a[1]) - 1:\n",
        "                assumption_array[dic[a[2]]][player][agentnum(a[1]) - 1] += 1\n",
        "        # role_estimationについて定数代入\n",
        "        if dic[a[2]] == 0:\n",
        "            role_estimation[4, agentnum(a[1]) - 1] = 0\n",
        "        else:\n",
        "            role_estimation[dic[a[2]], agentnum(a[1]) - 1] = 1\n",
        "            wolf_division[agentnum(a[1]) - 1] = 1\n",
        "            wolf_likely[agentnum(a[1]) - 1] = 1\n",
        "        # 今までの情報と判明した占い先プレイヤーの陣営が矛盾する場合は更新\n",
        "        change_recognition(assumption_array, a[2], agentnum(a[1]) - 1)\n",
        "        # 占い師CO1人より変数代入\n",
        "        wolf_division[agentnum(a[1]) - 1] = dic_wolf[a[2]]\n"
      ]
    },
    {
      "cell_type": "markdown",
      "metadata": {
        "id": "FA41RobW2q6r"
      },
      "source": [
        "##### estimate\n",
        "この発言内容は他プレイヤーの役職推測に他ならないためassumption_arrayの該当要素を加算します。"
      ]
    },
    {
      "cell_type": "code",
      "execution_count": null,
      "metadata": {
        "id": "2YwOGD612q6r"
      },
      "outputs": [],
      "source": [
        "def estimate(a, talk_player, assumption_array):\n",
        "    assumption_array[dic[a[2]]][talk_player][agentnum(a[1]) - 1] += 0.2\n"
      ]
    },
    {
      "cell_type": "markdown",
      "metadata": {
        "id": "L6CVGQM02q6r"
      },
      "source": [
        "##### request\n",
        "requestは基本的に他プレイヤーへの投票呼びかけに用いられます。そのためvoteと同様の情報更新を行います。"
      ]
    },
    {
      "cell_type": "code",
      "execution_count": null,
      "metadata": {
        "id": "cAhsRo1n2q6r"
      },
      "outputs": [],
      "source": [
        "def request(a, talk_player, assumption_array, hatred):\n",
        "    if a[2] == \"(VOTE\":\n",
        "        assumption_array[4][talk_player][agentnum(a[3]) - 1] += 0.2\n",
        "        assumption_array[5][talk_player][agentnum(a[3]) - 1] += 0.2\n",
        "        hatred[talk_player][agentnum(a[3]) - 1] += 0.1\n"
      ]
    },
    {
      "cell_type": "markdown",
      "metadata": {
        "id": "aFVTOAdu2q6r"
      },
      "source": [
        "##### identified\n",
        "identifiedは霊媒師による追放者の霊媒結果報告ですが, ログの解釈について占い結果報告divined と変わりません。   \n",
        "霊媒師のCO人数で場合分けをしてリストの要素更新, 変数代入を行います。"
      ]
    },
    {
      "cell_type": "code",
      "execution_count": null,
      "metadata": {
        "id": "fTgfkC_h2q6r"
      },
      "outputs": [],
      "source": [
        "def identified(\n",
        "    a, talk_player, assumption_array, wolf_likely, wolf_division, role_estimation\n",
        "):\n",
        "    # 発言者は自身を霊媒師だと認識\n",
        "    assumption_array[3][talk_player][talk_player] += 1\n",
        "    if comingout_num(3, assumption_array) >= 2:\n",
        "        # 霊媒師COが複数人いる場合騙りの可能性があるため発言者のみに関して情報更新を行う\n",
        "        for player in range(n_player):\n",
        "            if (\n",
        "                player != agentnum(a[1]) - 1\n",
        "                and assumption_array[3][player][talk_player] >= 1\n",
        "            ):\n",
        "                assumption_array[dic[a[2]]][player][agentnum(a[1]) - 1] += 1\n",
        "        if a[2] == \"HUMAN\":\n",
        "            for role in range(4):\n",
        "                assumption_array[role][talk_player][\n",
        "                    agentnum(a[1]) - 1\n",
        "                ] += 0.3  # TODO: 要探索\n",
        "            assumption_array[5][talk_player][agentnum(a[1]) - 1] += 0.3\n",
        "        else:\n",
        "            assumption_array[4][talk_player][agentnum(a[1]) - 1] += 0.3\n",
        "\n",
        "        # 真偽は分からないが少しだけ人狼らしさを加減する\n",
        "        if dic_wolf[a[2]] == 0:\n",
        "            wolf_likely[agentnum(a[1]) - 1] -= 0.2\n",
        "        else:\n",
        "            wolf_likely[agentnum(a[1]) - 1] += 0.5\n",
        "    else:\n",
        "        # 霊媒師COが0もしくは1人のとき全員に対して情報更新を行う\n",
        "        if a[2] == \"HUMAN\":\n",
        "            # HUMANのときは狂人の可能性も含めてassumption_array加算\n",
        "            for player in range(n_player):\n",
        "                if player != agentnum(a[1]) - 1:\n",
        "                    for role in range(4):\n",
        "                        assumption_array[role][player][\n",
        "                            agentnum(a[1]) - 1\n",
        "                        ] += 0.6  # TODO: 要探索\n",
        "                    assumption_array[5][player][agentnum(a[1]) - 1] += 0.6\n",
        "            # 属性HUMANのとき人狼ではないのでsに定数代入\n",
        "            role_estimation[4, agentnum(a[1]) - 1] = 0\n",
        "        else:\n",
        "            for player in range(n_player):\n",
        "                if player != agentnum(a[1]) - 1:\n",
        "                    assumption_array[4][player][agentnum(a[1]) - 1] += 1\n",
        "            # 属性人狼のときsに定数代入\n",
        "            role_estimation[4, agentnum(a[1]) - 1] = 1\n",
        "            wolf_division[agentnum(a[1]) - 1] = 1 #FIXME: 変更した\n",
        "            wolf_likely[agentnum(a[1]) - 1] = 1\n",
        "        # 今までの情報と判明した追放者の陣営が矛盾する場合は更新\n",
        "        change_recognition(assumption_array, a[2], agentnum(a[1]) - 1)\n",
        "\n",
        "        # 霊媒師COが1人のため変数代入\n",
        "        wolf_division[agentnum(a[1]) - 1] = dic_wolf[a[2]]\n"
      ]
    },
    {
      "cell_type": "markdown",
      "metadata": {
        "id": "CJJEtg1M2q6r"
      },
      "source": [
        "#### 話し合い終了後のCO人数に基づく分析\n",
        "続いて話し合い終了後の各役職のCO人数によって制約条件の追加/変数代入を行います。   \n",
        "- CO人数が2人以上のとき, COしたプレイヤーの中で人狼は1人以下（狂人が騙っている可能性もあるため） / 本物は1人のみ / 各プレイヤーの役職は本物か人狼陣営のいずれか という制約条件をそれぞれ加えます。またCOしているプレイヤーに対し人狼らしさを加算します（1度のみ）。\n",
        "- CO人数が1人のみのとき, そのプレイヤーが本物だとして役職を確定します（実戦において偽物がCOしたとき本物もそのターンにCOすることを前提としています）。"
      ]
    },
    {
      "cell_type": "code",
      "execution_count": null,
      "metadata": {
        "id": "0YvwI9Uo2q6r"
      },
      "outputs": [],
      "source": [
        "# 指定された役職のCOしたplayernumを返す関数\n",
        "def comingout_index(roleindex, assumption_array):\n",
        "    a = []\n",
        "    for i in range(n_player):\n",
        "        if assumption_array[roleindex][i][i] >= 1:\n",
        "            a.append(i)\n",
        "    return a\n",
        "\n",
        "\n",
        "# 現段階でプレイヤーiの役職が確定しているか判定する関数\n",
        "def determined(s, i):\n",
        "    counter = -1\n",
        "    for j in range(n_role):\n",
        "        if s[j, i] == 1:\n",
        "            counter = 1\n",
        "    return counter\n",
        "\n",
        "\n",
        "from amplify.constraint import equal_to, less_equal\n",
        "\n",
        "\n",
        "def comingout_analysis(\n",
        "    assumption_array,\n",
        "    wolf_likely,\n",
        "    wolf_division,\n",
        "    possessed_division,\n",
        "    role_estimation,\n",
        "    CO_penalty_list,\n",
        "    constraints_list1,\n",
        "    constraints_list2,\n",
        "):\n",
        "    # CO人数がそのターン終了後に制約を満たしている場合は役職確定とし変数代入\n",
        "    for j in range(n_role):\n",
        "        if comingout_num(j, assumption_array) == 1:\n",
        "            a = comingout_index(j, assumption_array)\n",
        "            if len(a) != 0:\n",
        "                if determined(role_estimation, a[0]) == 0:\n",
        "                    if j != 4:\n",
        "                        wolf_division[a[0]] = 0\n",
        "                    else:\n",
        "                        wolf_division[a[0]] = 1\n",
        "                    role_estimation[j, a[0]] = 1\n",
        "                    possessed_division[a[0]] = 0\n",
        "\n",
        "    # CO人数が制約を超えている時は制約条件を加え、人狼らしさを追加（初回のみ）\n",
        "    for j in range(1, 4):\n",
        "        b = 0\n",
        "        c = 0\n",
        "        if comingout_num(j, assumption_array) > 1:\n",
        "            a = comingout_index(j, assumption_array)\n",
        "            for k in range(len(a)):\n",
        "                b += wolf_division[a[k]]\n",
        "                c += role_estimation[j, a[k]]\n",
        "                if (a[k] in CO_penalty_list) == False:\n",
        "                    wolf_likely[a[k]] += 0.5\n",
        "                    CO_penalty_list.append(a[k])\n",
        "            if b != 0:\n",
        "                constraints_list1.append(lambda b=b: less_equal(b, 1))\n",
        "            if c != 0:\n",
        "                constraints_list2.append(lambda c=c: equal_to(c, 1))\n",
        "            # COしている人は本物/人狼/狂人のいずれか\n",
        "            for index in a:\n",
        "                d = (\n",
        "                    role_estimation[4, index]\n",
        "                    + role_estimation[5, index]\n",
        "                    + role_estimation[j, index]\n",
        "                )\n",
        "                constraints_list2.append(lambda d=d: equal_to(d, 1))\n"
      ]
    },
    {
      "cell_type": "markdown",
      "metadata": {
        "id": "7SN47c7R2q6s"
      },
      "source": [
        "#### 襲撃され死亡したプレイヤーの分析\n",
        "人狼に襲撃されて死亡したプレイヤーは少なくとも人狼ではありません。そのためwolf_division及びrole_estimationの死亡プレイヤー要素に変数代入を行います。   \n",
        "また死亡したプレイヤーが役職COをしていた場合他のCOプレイヤーの人狼らしさを加算します（死亡プレイヤーが狂人の可能性があるため偽物だと確定できる訳ではありません）。"
      ]
    },
    {
      "cell_type": "code",
      "execution_count": null,
      "metadata": {
        "id": "co8GAgxM2q6s"
      },
      "outputs": [],
      "source": [
        "# 襲撃されて死亡したプレイヤーはHUMAN（人狼ではない）確定、人狼らしさも減らす\n",
        "def attacked(assumption_array, wolf_likely, wolf_division, role_estimation, CO_list):\n",
        "    wolf_division[attacked_list[i][0][2] - 1] = 0\n",
        "    wolf_likely[attacked_list[i][0][2] - 1] = -1\n",
        "    role_estimation[4, attacked_list[i][0][2] - 1] = 0\n",
        "    # 襲撃されて死亡したプレイヤーがCOしていてそれが複数人いるとき\n",
        "    if (\n",
        "        CO_list[attacked_list[i][0][2] - 1] != -1\n",
        "        and comingout_num(CO_list[attacked_list[i][0][2] - 1], assumption_array) > 1\n",
        "    ):\n",
        "        a = comingout_index(CO_list[attacked_list[i][0][2] - 1], assumption_array)\n",
        "        for j in range(len(a)):\n",
        "            if a[j] != attacked_list[i][0][2] - 1:\n",
        "                wolf_likely[a[j]] = 1\n"
      ]
    },
    {
      "cell_type": "markdown",
      "metadata": {
        "id": "09yFBWo22q6s"
      },
      "source": [
        "#### 投票フェーズ\n",
        "投票フェーズで各プレイヤーは投票対象を現段階で最も排除したいプレイヤーだと認識していることになります。   \n",
        "そのためmax-cut問題における重みhatredの該当要素を1（最も敵対的）とします。"
      ]
    },
    {
      "cell_type": "code",
      "execution_count": null,
      "metadata": {
        "id": "UQT6NKRk2q6s"
      },
      "outputs": [],
      "source": [
        "# 生存人数を返す関数\n",
        "def num_alive(status_list, day):\n",
        "    count = 0\n",
        "    for i in range(n_player):\n",
        "        count += status_list[day][i]\n",
        "    return count\n",
        "\n",
        "\n",
        "def vote(day, hatred, status_list):\n",
        "    if day != 1:\n",
        "        for j in range(num_alive(status_list, day)):\n",
        "            hatred[vote_list[day - 1][j][2] - 1][int(vote_list[day - 1][j][3]) - 1] = 1\n"
      ]
    },
    {
      "cell_type": "markdown",
      "metadata": {
        "id": "IufQy0JD2q6s"
      },
      "source": [
        "### 具体的なログの解釈"
      ]
    },
    {
      "cell_type": "markdown",
      "metadata": {
        "id": "9Ui-aQ372q6s"
      },
      "source": [
        "それでは以上で定義した関数を用いて実際にログの解釈を行ってみましょう。   \n",
        "初めに以下でログの解釈で必要になる関数を定義します。   \n",
        "それぞれの関数の初めに関数の説明をコメントで入れているので適宜参照してください（一度実行さえすれば詳細に理解する必要はありません）。"
      ]
    },
    {
      "cell_type": "code",
      "execution_count": null,
      "metadata": {
        "id": "QWNCOO4N2q6s"
      },
      "outputs": [],
      "source": [
        "# assumption_arrayの生存者に対する要素をn倍する関数\n",
        "def time_alive_3(assumption_array, n, day, status_array):\n",
        "    for role in range(n_role):\n",
        "        for i in range(n_player):\n",
        "            for j in range(n_player):\n",
        "                if i != j and status_array[day][j] == 1 and status_array[day][i] == 1:\n",
        "                    assumption_array[role][i][j] *= n\n",
        "    return assumption_array\n",
        "\n",
        "\n",
        "# hatredの生存者に対する要素をn倍する関数\n",
        "def time_alive_2(hatred, n, day, status_array):\n",
        "    for i in range(n_player):\n",
        "        for j in range(n_player):\n",
        "            if status_array[day][j] == 1 and status_array[day][i] == 1:\n",
        "                hatred[i][j] *= n\n",
        "    return hatred\n",
        "\n",
        "\n",
        "# wolf_hの生存者に対する要素をn倍する関数\n",
        "def time_alive_1(wolf_h, n, day, status_array):\n",
        "    for i in range(n_player):\n",
        "        if status_array[day][i] == 1:\n",
        "            wolf_h[i] *= n\n",
        "    return wolf_h\n",
        "\n",
        "\n",
        "# 値が1より大きくなっている要素について値を1に更新する（値が1より大きくなると目的関数の観点で逆効果のため）\n",
        "def adjust(assumption_array):\n",
        "    for role in range(n_role):\n",
        "        for i in range(n_player):\n",
        "            for j in range(n_player):\n",
        "                if assumption_array[role][i][j] > 1:\n",
        "                    assumption_array[role][i][j] = 1\n",
        "    return assumption_array\n",
        "\n",
        "\n",
        "# 2次元配列の要素の最大の絶対値を返す関数\n",
        "def max_abs_list_2(list):\n",
        "    tmp = 0\n",
        "    for i in range(len(list)):\n",
        "        for j in range(len(list[0])):\n",
        "            if abs(list[i][j]) > tmp:\n",
        "                tmp = abs(list[i][j])\n",
        "    return tmp\n",
        "\n",
        "\n",
        "# 2次元配列を規格化する関数\n",
        "def standardize_list_2(list):\n",
        "    a = float(max_abs_list_2(list))\n",
        "    if a == 0:\n",
        "        return list\n",
        "    for i in range(len(list)):\n",
        "        for j in range(len(list[0])):\n",
        "            list[i][j] = float(list[i][j]) / a\n",
        "    return list\n"
      ]
    },
    {
      "cell_type": "markdown",
      "metadata": {
        "id": "H82rIb6K2q6s"
      },
      "source": [
        "下のコードを実行することで実際にログを解釈し, assumption_array / hatred / wolf_likekyの構築を行うことができます。"
      ]
    },
    {
      "cell_type": "code",
      "execution_count": null,
      "metadata": {
        "id": "8ghTib2Q2q6s"
      },
      "outputs": [],
      "source": [
        "# ログ解釈中にmax-cut問題/assumption_arrayの制約条件を加えるリスト\n",
        "constraints_list_wolf = []\n",
        "constraints_list_role = []\n",
        "\n",
        "# 敵対値, 要素が0のとき中立\n",
        "hatred = [[0 for _ in range(n_player)] for _ in range(n_player)]\n",
        "hatred_list = [[[0 for _ in range(n_player)] for _ in range(n_player)]]\n",
        "\n",
        "# 行動から読み取れる人狼らしさ\n",
        "wolf_likely = [0 for _ in range(n_player)]\n",
        "wolf_likely_list = [[0 for _ in range(n_player)]]\n",
        "\n",
        "# それぞれのプレイヤーが他プレイヤーに対してこの役職だと認識している度合い\n",
        "assumption_array_list = [\n",
        "    [[[0 for _ in range(n_player)] for _ in range(n_player)] for _ in range(n_role)]\n",
        "]\n",
        "assumption_array = [\n",
        "    [[0 for _ in range(n_player)] for _ in range(n_player)] for _ in range(n_role)\n",
        "]\n",
        "\n",
        "# 複数人COによるペナルティを受けたプレイヤーを格納するリスト\n",
        "CO_penalty_list = []\n",
        "\n",
        "# COした役職を格納するリスト\n",
        "CO_list = [-1 for _ in range(n_player)]\n",
        "\n",
        "for i in range(1, day - 1):\n",
        "    hatred = time_alive_2(hatred, 0.5, i, status_list)\n",
        "    wolf_likely = time_alive_1(wolf_likely, 1, i, status_list)\n",
        "    assumption_array = time_alive_3(assumption_array, 0, i, status_list)\n",
        "\n",
        "    vote(i, hatred, status_list)\n",
        "\n",
        "    talk_list_day = talk_list[i - 1].values\n",
        "    for j in range(len(talk_list_day)):\n",
        "        if talk_list_day[j][1] == \"Over\" or talk_list_day[j][1] == \"Skip\":\n",
        "            continue\n",
        "        else:\n",
        "            a = talk_list_day[j][1].split()\n",
        "            if a[0] == \"VOTE\":\n",
        "                vote_declaration(\n",
        "                    a, int(talk_list_day[j][0]) - 1, assumption_array, hatred\n",
        "                )\n",
        "            elif a[0] == \"COMINGOUT\":\n",
        "                comingout(a, int(talk_list_day[j][0]) - 1, assumption_array, CO_list)\n",
        "            elif a[0] == \"DIVINED\":\n",
        "                divined(\n",
        "                    a,\n",
        "                    int(talk_list_day[j][0]) - 1,\n",
        "                    assumption_array,\n",
        "                    wolf_likely,\n",
        "                    wolf_division,\n",
        "                    role_estimation,\n",
        "                )\n",
        "            elif a[0] == \"ESTIMATE\":\n",
        "                estimate(a, int(talk_list_day[j][0]) - 1, assumption_array)\n",
        "            elif a[0] == \"REQUEST\":\n",
        "                request(a, int(talk_list_day[j][0]) - 1, assumption_array, hatred)\n",
        "            elif a[0] == \"IDENTIFIED\":\n",
        "                identified(\n",
        "                    a,\n",
        "                    int(talk_list_day[j][0]) - 1,\n",
        "                    assumption_array,\n",
        "                    wolf_likely,\n",
        "                    wolf_division,\n",
        "                    role_estimation,\n",
        "                )\n",
        "\n",
        "    comingout_analysis(\n",
        "        assumption_array,\n",
        "        wolf_likely,\n",
        "        wolf_division,\n",
        "        possessed_division,\n",
        "        role_estimation,\n",
        "        CO_penalty_list,\n",
        "        constraints_list_wolf,\n",
        "        constraints_list_role,\n",
        "    )\n",
        "\n",
        "    if (\n",
        "        i < day - 2\n",
        "        and len(attacked_list[i][0]) != 0\n",
        "        and attacked_list[i][0][3] == \"true\"\n",
        "    ):\n",
        "        attacked(assumption_array, wolf_likely, wolf_division, role_estimation, CO_list)\n",
        "\n",
        "    adjust(assumption_array)\n",
        "    assumption_array_list.append(assumption_array)\n",
        "\n",
        "    wolf_likely_list.append(wolf_likely)\n",
        "\n",
        "    hatred = standardize_list_2(hatred)\n",
        "    hatred_list.append(hatred)\n"
      ]
    },
    {
      "cell_type": "markdown",
      "metadata": {
        "id": "WO2FZSC92q6t"
      },
      "source": [
        "以上でログの解釈を必要なリストに落とし込むことができました。それぞれのリストは日にち毎にそれぞれassumption_array_list, hatred_list, wolf_likely_listに格納されています。   "
      ]
    },
    {
      "cell_type": "markdown",
      "metadata": {
        "id": "Kq10A06Y2q6t"
      },
      "source": [
        "## 最適化"
      ]
    },
    {
      "cell_type": "markdown",
      "metadata": {
        "id": "mHULs6i82q6t"
      },
      "source": [
        "### 1. 人狼検出のmax-cut問題における最適化"
      ]
    },
    {
      "cell_type": "markdown",
      "metadata": {
        "id": "YkK-sT3o2q6t"
      },
      "source": [
        "初めにこの最適化で用いる関数を定義します。コメントで各関数の説明をしているので適宜参照してください（一度実行さえすれば詳細に確認する必要はありません）。"
      ]
    },
    {
      "cell_type": "code",
      "execution_count": null,
      "metadata": {
        "id": "btUePGOH2q6t"
      },
      "outputs": [],
      "source": [
        "# 1次元配列の要素の最大の絶対値を返す関数\n",
        "def max_abs_list(list):\n",
        "    tmp = 0\n",
        "    for i in range(len(list)):\n",
        "        if abs(list[i]) > tmp:\n",
        "            tmp = abs(list[i])\n",
        "    return tmp\n",
        "\n",
        "\n",
        "# 1次元配列を規格化する関数\n",
        "def standardize_list(list):\n",
        "    a = float(max_abs_list(list))\n",
        "    if a == 0:\n",
        "        return list\n",
        "    for i in range(len(list)):\n",
        "        list[i] = float(list[i]) / a\n",
        "    return list\n",
        "\n",
        "\n",
        "# 最適化前に変数代入で答えが分かっているかどうか判定する関数\n",
        "def all_inserted(wolf_division):\n",
        "    flag = 1\n",
        "    for i in range(n_player):\n",
        "        if wolf_division[i] == 0 or wolf_division[i] == 1:\n",
        "            continue\n",
        "        else:\n",
        "            flag = 0\n",
        "    return flag\n"
      ]
    },
    {
      "cell_type": "markdown",
      "metadata": {
        "id": "bng1Jxup2q6v"
      },
      "source": [
        "#### 最適化\n",
        "1. 目的関数について   \n",
        "役職推定方針で説明した目的関数を再掲します。   \n",
        "$$ cost\\_wolf = \\sum_{i} \\sum_{j} hatred[i][j] \\bigl(2*wolf\\_division[i]-1\\bigr) * \\bigl(2*wolf\\_division[j]-1\\bigr) - \\sum_{i} wolf\\_likely[i] * (2*wolf\\_division[i] -1) $$\n",
        "この目的関数はAmplifyで提供されている定式化補助関数sum_polyを利用することで簡潔に表現することが可能です。   \n",
        "\n",
        "\n",
        "2. 制約条件について   \n",
        "人狼抽出のmax-cut問題ではログの解釈時に得られた制約条件の他に人狼が3人であるという制約条件が加わります。"
      ]
    },
    {
      "cell_type": "markdown",
      "metadata": {
        "id": "z6wudnC92q6v"
      },
      "source": [
        "以上の内容を踏まえて実際に最適化を行い, その結果を出力してみましょう。"
      ]
    },
    {
      "cell_type": "code",
      "execution_count": null,
      "metadata": {
        "colab": {
          "base_uri": "https://localhost:8080/"
        },
        "id": "QJIhszDW2q6v",
        "outputId": "5d0e2e35-af48-444b-f41d-fe22089cabbd"
      },
      "outputs": [
        {
          "name": "stdout",
          "output_type": "stream",
          "text": [
            "optimization result: [0. 0. 1. 0. 1. 0. 0. 0. 0. 0. 0. 0. 0. 0. 1.]\n",
            "answer:              [0, 0, 1, 0, 1, 0, 0, 0, 0, 0, 0, 0, 0, 0, 1]\n"
          ]
        }
      ],
      "source": [
        "from amplify import sum_poly, Solver\n",
        "from amplify.client import FixstarsClient\n",
        "\n",
        "# 人狼らしさの目的関数における重み\n",
        "weight = 1\n",
        "\n",
        "# 制約条件の重みは最適化で共通\n",
        "penalty = 15\n",
        "\n",
        "# 規格化\n",
        "wolf_likely_list[day - 2] = standardize_list(wolf_likely_list[day - 2])\n",
        "\n",
        "# max-cut問題の目的関数\n",
        "cost_wolf = sum_poly(\n",
        "    n_player,\n",
        "    lambda i: sum_poly(\n",
        "        n_player,\n",
        "        lambda j: hatred_list[day - 2][i][j]\n",
        "        * (2 * wolf_division[i] - 1)\n",
        "        * (2 * wolf_division[j] - 1),\n",
        "    ),\n",
        ") - sum_poly(\n",
        "    n_player, lambda i: wolf_likely_list[day - 2][i] * (2 * wolf_division[i] - 1)\n",
        ")\n",
        "\n",
        "# ログから得られる制約条件\n",
        "log_constraints_wolf = []\n",
        "for f in constraints_list_wolf:\n",
        "    log_constraints_wolf.append(f())\n",
        "\n",
        "# 人狼は3人だけ\n",
        "wolf_constraints = equal_to(wolf_division.sum(), n_werewolf)\n",
        "\n",
        "constraints = sum(log_constraints_wolf) + wolf_constraints\n",
        "\n",
        "model_wolf = cost_wolf + penalty * constraints\n",
        "\n",
        "client = FixstarsClient()\n",
        "client.parameters.timeout = 6000\n",
        "client.token = \"dRUQFpWYe2yGaq79bz9wmA8WNM2L3ZX9\"\n",
        "client.parameters.outputs.duplicate = True\n",
        "solver = Solver(client)\n",
        "\n",
        "if all_inserted(wolf_division) == 1:\n",
        "    wolf_values = wolf_division\n",
        "else:\n",
        "    result_wolf = solver.solve(model_wolf)\n",
        "    if len(result_wolf.solutions) == 0:\n",
        "        raise RuntimeError(\"Any one of constraints is not satisfied.\")\n",
        "\n",
        "    energy = result_wolf.solutions[0].energy\n",
        "    values = result_wolf.solutions[0].values\n",
        "    wolf_values = wolf_division.decode(values)\n",
        "\n",
        "print(\"optimization result:\", wolf_values)\n",
        "print(\"answer:             \", role_list[4])\n"
      ]
    },
    {
      "cell_type": "markdown",
      "metadata": {
        "id": "FIPKeIH22q6w"
      },
      "source": [
        "最適化結果と実際の人狼を比較してみると今回のログでは全員正しく抽出できていることが分かります。   \n",
        "また100個のログを用いて精度判定を行ったところ人狼検出期待値は3人中2.75人となり, 高い精度が確認されました。"
      ]
    },
    {
      "cell_type": "markdown",
      "metadata": {
        "id": "F1uk_4P02q6w"
      },
      "source": [
        "### 2. 狂人検出のmax-cut問題における最適化"
      ]
    },
    {
      "cell_type": "markdown",
      "metadata": {
        "id": "9jYsNCen2q6w"
      },
      "source": [
        "狂人検出のmax-cut問題は人狼検出のmax-cut問題と目的関数は同一です。またログの解釈で得られた制約条件に加え狂人が一人のみという制約条件が加わります。   \n",
        "このmax-cut問題で先ほど抽出された人狼3人について除外する必要があり, 目的関数に含まれるhatred, wolf_likely要素を0埋めします。   \n",
        "これらをコード化した上で最適化を実行し, 結果を確認してみます。"
      ]
    },
    {
      "cell_type": "code",
      "execution_count": null,
      "metadata": {
        "colab": {
          "base_uri": "https://localhost:8080/"
        },
        "id": "5q6F5FdU2q6w",
        "outputId": "0c9d514f-93bc-498b-ea9d-c439d4d51da7"
      },
      "outputs": [
        {
          "name": "stdout",
          "output_type": "stream",
          "text": [
            "optimization result: [0. 1. 0. 0. 0. 0. 0. 0. 0. 0. 0. 0. 0. 0. 0.]\n",
            "answer:              [0, 0, 0, 0, 0, 0, 0, 1, 0, 0, 0, 0, 0, 0, 0]\n"
          ]
        }
      ],
      "source": [
        "wolf_index = []\n",
        "\n",
        "# 前のmax-cutで人狼と推定されたプレイヤーindexを取得\n",
        "for i in range(n_player):\n",
        "    if wolf_values[i] == 1:\n",
        "        wolf_index.append(i)\n",
        "\n",
        "# 人狼と判定されたプレイヤーの該当hatred/wolf_hを0埋めする\n",
        "for w in wolf_index:\n",
        "    for i in range(n_player):\n",
        "        hatred_list[day - 2][w][i] = 0\n",
        "        hatred_list[day - 2][i][w] = 0\n",
        "    wolf_likely_list[day - 2][w] = 0\n",
        "\n",
        "# 目的関数構築\n",
        "cost_possessed = sum_poly(\n",
        "    n_player,\n",
        "    lambda i: sum_poly(\n",
        "        n_player,\n",
        "        lambda j: hatred_list[day - 2][i][j]\n",
        "        * (2 * possessed_division[i] - 1)\n",
        "        * (2 * possessed_division[j] - 1),\n",
        "    ),\n",
        ") - sum_poly(\n",
        "    n_player, lambda i: wolf_likely_list[day - 2][i] * (2 * possessed_division[i] - 1)\n",
        ")\n",
        "\n",
        "# 狂人は１人のみ\n",
        "possessed_constraints = equal_to(possessed_division.sum(), n_possessed)\n",
        "\n",
        "model_possessed = cost_possessed + penalty * possessed_constraints\n",
        "result_possessed = solver.solve(model_possessed)\n",
        "if len(result_possessed.solutions) == 0:\n",
        "    raise RuntimeError(\"Any one of constraints is not satisfied.\")\n",
        "\n",
        "energy2 = result_possessed.solutions[0].energy\n",
        "values2 = result_possessed.solutions[0].values\n",
        "possessed_values = possessed_division.decode(values2)\n",
        "\n",
        "print(\"optimization result:\", possessed_values)\n",
        "print(\"answer:             \", role_list[5])\n"
      ]
    },
    {
      "cell_type": "markdown",
      "metadata": {
        "id": "P3SEdgmh2q6w"
      },
      "source": [
        "最適化結果を確認してみると狂人が正しく検出できていないことがわかります。   \n",
        "100個のログで狂人検出率を確認したところ23％と低く留まってしまう結果となりました。しかし, max-cut問題による最適化をせずにassumption_array（各プレイヤーの認識）のみで役職推定を行った際の狂人検出率を求めたところ7％であったことから, 検出精度の向上は認められました。   \n",
        "狂人検出精度が低く留まった原因としては以下が考えらます。   \n",
        "- 狂人は占いや霊媒結果が村人扱いとなってしまうため行動の特徴から村人との差別化を図る必要がある\n",
        "- 狂人は人狼プレイヤーを把握していないため人狼の勝利を目指す行動が取りずらい\n",
        "- 人狼AIは狂人として場を混乱させる行動を取るのではなく, 自身が吊られないように周りと同調する行動を取る傾向がありグループ分けにおいて村人側に振り分けられやすい"
      ]
    },
    {
      "cell_type": "markdown",
      "metadata": {
        "id": "y9-lkroQ2q6w"
      },
      "source": [
        "### 3. 村人陣営中の役職推定における組み合わせ最適化"
      ]
    },
    {
      "cell_type": "markdown",
      "metadata": {
        "id": "RSmUU35O2q6w"
      },
      "source": [
        "初めにこの最適化で用いる関数を定義します。"
      ]
    },
    {
      "cell_type": "code",
      "execution_count": null,
      "metadata": {
        "id": "xZMjBwed2q6w"
      },
      "outputs": [],
      "source": [
        "# すでに狂人と確定したプレイヤーがいるか判定する関数\n",
        "def determined_possessed(s):\n",
        "    counter = -1\n",
        "    for j in range(n_player):\n",
        "        if s[5, j] == 1:\n",
        "            counter = 1\n",
        "    return counter\n"
      ]
    },
    {
      "cell_type": "markdown",
      "metadata": {
        "id": "LPFtKnqS2q6w"
      },
      "source": [
        "#### 最適化\n",
        "検出された人狼, 狂人をrole_estimationに反映させた上で村人陣営の役職推定を行います。\n",
        "1. 目的関数について   \n",
        "役職推定方針で説明した目的関数を再掲します。   \n",
        "$$ cost\\_role = \\sum_{role} \\sum_{i} \\sum_{j} \\bigl(role\\_division[role][j] - assumption\\_array[role][i][j] \\bigr) ^2 $$\n",
        "この目的関数についてもAmplifyで提供されている定式化補助関数sum_polyを利用することで簡潔に表現することが可能です。  \n",
        "\n",
        "2. 制約条件について   \n",
        "この最適化特有の制約条件として   \n",
        "- 各役職の人数が決まっている\n",
        "- 各プレイヤーには一つの役職が割り当てられる      \n",
        "があります。  "
      ]
    },
    {
      "cell_type": "markdown",
      "metadata": {
        "id": "FLctafbK2q6w"
      },
      "source": [
        "下のコードを実行することで最終的な全プレイヤーの役職推定を得ることができます。"
      ]
    },
    {
      "cell_type": "code",
      "execution_count": null,
      "metadata": {
        "colab": {
          "base_uri": "https://localhost:8080/"
        },
        "id": "kM5GrWc72q6x",
        "outputId": "aea2581a-f030-4da0-bf37-8f7405ac6cbd"
      },
      "outputs": [
        {
          "name": "stdout",
          "output_type": "stream",
          "text": [
            "optimization result:\n",
            " [0. 0. 0. 1. 0. 0. 1. 1. 0. 1. 1. 1. 1. 1. 0.]\n",
            " [1. 0. 0. 0. 0. 0. 0. 0. 0. 0. 0. 0. 0. 0. 0.]\n",
            " [0. 1. 0. 0. 0. 0. 0. 0. 0. 0. 0. 0. 0. 0. 0.]\n",
            " [0. 0. 0. 0. 0. 0. 0. 0. 1. 0. 0. 0. 0. 0. 0.]\n",
            " [0. 0. 1. 0. 1. 0. 0. 0. 0. 0. 0. 0. 0. 0. 1.]\n",
            " [0. 0. 0. 0. 0. 1. 0. 0. 0. 0. 0. 0. 0. 0. 0.]\n",
            "answer:             \n",
            " [0 0 0 1 0 1 1 0 0 1 1 1 1 1 0]\n",
            " [1 0 0 0 0 0 0 0 0 0 0 0 0 0 0]\n",
            " [0 1 0 0 0 0 0 0 0 0 0 0 0 0 0]\n",
            " [0 0 0 0 0 0 0 0 1 0 0 0 0 0 0]\n",
            " [0 0 1 0 1 0 0 0 0 0 0 0 0 0 1]\n",
            " [0 0 0 0 0 0 0 1 0 0 0 0 0 0 0]\n"
          ]
        }
      ],
      "source": [
        "from amplify.constraint import one_hot\n",
        "import numpy as np\n",
        "\n",
        "possessed_index = -1\n",
        "\n",
        "# max-cutの結果を反映\n",
        "for i in range(n_player):\n",
        "    if wolf_values[i] == 1:\n",
        "        if determined(role_estimation, i) == -1:\n",
        "            role_estimation[4, i] = 1\n",
        "    if possessed_values[i] == 1:\n",
        "        if (\n",
        "            determined(role_estimation, i) == -1\n",
        "            and determined_possessed(role_estimation) == -1\n",
        "        ):\n",
        "            role_estimation[5, i] = 1\n",
        "            possessed_index = i\n",
        "\n",
        "assumption_array_list = np.array(assumption_array_list)\n",
        "role_list = np.array(role_list)\n",
        "\n",
        "# 2乗誤差で目的関数を作成\n",
        "cost_role = sum_poly(\n",
        "    n_role,\n",
        "    lambda role: sum_poly(\n",
        "        n_player,\n",
        "        lambda i: sum_poly(\n",
        "            n_player,\n",
        "            lambda j: (\n",
        "                role_estimation[role, j] - assumption_array_list[day - 2, role, i, j]\n",
        "            )\n",
        "            ** 2,\n",
        "        ),\n",
        "    ),\n",
        ")\n",
        "\n",
        "# プレイヤー1人に1つの役職が割り当てられることに起因する制約\n",
        "player_constraints = []\n",
        "for i in range(n_player):\n",
        "    player_constraints.append(one_hot(role_estimation[:, i].sum()))\n",
        "\n",
        "# ログから得られる制約条件\n",
        "log_constraints_role = []\n",
        "for f in constraints_list_role:\n",
        "    log_constraints_role.append(f())\n",
        "\n",
        "# 役職ごとに人数が決まっていることに起因する制約\n",
        "role_constraints = sum(\n",
        "    equal_to(role_estimation[0].sum(), n_villager)\n",
        "    + equal_to(role_estimation[1].sum(), n_seer)\n",
        "    + equal_to(role_estimation[2].sum(), n_guard)\n",
        "    + equal_to(role_estimation[3].sum(), n_medium)\n",
        "    + equal_to(role_estimation[4].sum(), n_werewolf)\n",
        "    + equal_to(role_estimation[5].sum(), n_possessed)\n",
        ")\n",
        "\n",
        "constraints_role = (\n",
        "    sum(log_constraints_role) + sum(player_constraints) + role_constraints\n",
        ")\n",
        "\n",
        "model_role = cost_role + penalty * constraints_role\n",
        "result_role = solver.solve(model_role)\n",
        "\n",
        "if len(result_role.solutions) == 0:\n",
        "    # 狂人と特定したプレイヤーによっては制約条件と嚙み合わず答えが得られない場合がある（狂人特定率の低さ故）\n",
        "    # 狂人特定が矛盾をもたらしたとき狂人は別のプレイヤーだとして最適化を行う（1回目のmax-cutの結果のみを利用し、村人陣営から役職推定を行う）\n",
        "    role_estimation[5, possessed_index] = 0\n",
        "\n",
        "    cost_role = sum_poly(\n",
        "        n_role,\n",
        "        lambda role: sum_poly(\n",
        "            n_player,\n",
        "            lambda i: sum_poly(\n",
        "                n_player,\n",
        "                lambda j: (\n",
        "                    role_estimation[role, j]\n",
        "                    - assumption_array_list[day - 2, role, i, j]\n",
        "                )\n",
        "                ** 2,\n",
        "            ),\n",
        "        ),\n",
        "    )\n",
        "\n",
        "    player_constraints = []\n",
        "    for i in range(n_player):\n",
        "        player_constraints.append(one_hot(role_estimation[:, i].sum()))\n",
        "\n",
        "    log_constraints_role = []\n",
        "    for f in constraints_list_role:\n",
        "        log_constraints_role.append(f())\n",
        "\n",
        "    role_constraints = sum(\n",
        "        equal_to(role_estimation[0].sum(), n_villager)\n",
        "        + equal_to(role_estimation[1].sum(), n_seer)\n",
        "        + equal_to(role_estimation[2].sum(), n_guard)\n",
        "        + equal_to(role_estimation[3].sum(), n_medium)\n",
        "        + equal_to(role_estimation[4].sum(), n_werewolf)\n",
        "        + equal_to(role_estimation[5].sum(), n_possessed)\n",
        "    )\n",
        "\n",
        "    constraints_role = (\n",
        "        sum(log_constraints_role) + sum(player_constraints) + role_constraints\n",
        "    )\n",
        "\n",
        "    model_role = cost_role + penalty * constraints_role\n",
        "    result_role = solver.solve(model_role)\n",
        "\n",
        "    if len(result_role.solutions) == 0:\n",
        "        raise RuntimeError(\"Any one of constraints is not satisfied.\")\n",
        "\n",
        "energy3 = result_role.solutions[0].energy\n",
        "values3 = result_role.solutions[0].values\n",
        "role_values = role_estimation.decode(values3)\n",
        "\n",
        "print(\"optimization result:\", *role_values, sep=\"\\n \")\n",
        "print(\"answer:             \", *role_list, sep=\"\\n \")\n"
      ]
    },
    {
      "cell_type": "markdown",
      "metadata": {
        "id": "nB5nmvKJ2q6x"
      },
      "source": [
        "最終的な各プレイヤーの役職推定が6×15の2次元配列で出力されています。真の役職と最適化結果の乖離を以下で評価してみます。   "
      ]
    },
    {
      "cell_type": "code",
      "execution_count": null,
      "metadata": {
        "colab": {
          "base_uri": "https://localhost:8080/"
        },
        "id": "_97po8Om2q6x",
        "outputId": "18d4f354-5d27-4bc3-d94e-7581e1663c16"
      },
      "outputs": [
        {
          "name": "stdout",
          "output_type": "stream",
          "text": [
            "3 / 4 players are correctly identified as wolf_camp\n",
            "seer is correctly identified\n",
            "bodyguard is correctly identified\n",
            "medium is correctly identified\n",
            "totally 13 / 15 players are correctly identified their roles\n"
          ]
        }
      ],
      "source": [
        "# role_arrayとestimated_role_arrayの乖離の評価\n",
        "wolfcamp_identification = 0\n",
        "seer_identification = 0\n",
        "medium_identification = 0\n",
        "guard_identification = 0\n",
        "total_identification = 0\n",
        "for i in range(n_role):\n",
        "    for j in range(n_player):\n",
        "        if i == 1:\n",
        "            seer_identification += int(role_values[i, j]) * role_list[i][j]\n",
        "        elif i == 2:\n",
        "            guard_identification += int(role_values[i, j]) * role_list[i][j]\n",
        "        elif i == 3:\n",
        "            medium_identification += int(role_values[i, j]) * role_list[i][j]\n",
        "        elif i == 4:\n",
        "            wolfcamp_identification += int(role_values[i, j]) * role_list[i][j]\n",
        "            wolfcamp_identification += int(role_values[i, j]) * role_list[i + 1][j]\n",
        "        elif i == 5:\n",
        "            wolfcamp_identification += int(role_values[i, j]) * role_list[i][j]\n",
        "            wolfcamp_identification += int(role_values[i, j]) * role_list[i - 1][j]\n",
        "        total_identification += int(role_values[i, j]) * role_list[i][j]\n",
        "\n",
        "print(wolfcamp_identification, \"/ 4 players are correctly identified as wolf_camp\")\n",
        "if seer_identification == 1:\n",
        "    print(\"seer is correctly identified\")\n",
        "else:\n",
        "    print(\"seer is incorrectly identified\")\n",
        "if guard_identification == 1:\n",
        "    print(\"bodyguard is correctly identified\")\n",
        "else:\n",
        "    print(\"bodyguard is incorrectly identified\")\n",
        "if medium_identification == 1:\n",
        "    print(\"medium is correctly identified\")\n",
        "else:\n",
        "    print(\"medium is incorrectly identified\")\n",
        "print(\n",
        "    \"totally\", total_identification, \"/ 15 players are correctly identified their roles\"\n",
        ")\n"
      ]
    },
    {
      "cell_type": "markdown",
      "metadata": {
        "id": "xdhI2VXW2q6x"
      },
      "source": [
        "概ね正しく役職推定ができていることが確認できます。   \n",
        "また全体の役職推定の精度判定を100個のログを用いて行った結果を以下に示します。\n",
        "\n",
        "|正解人数|ログ数|\n",
        "|--|--|\n",
        "|8|1|\n",
        "|9|3|\n",
        "|10|16|\n",
        "|11|46|\n",
        "|12|6|\n",
        "|13|25|\n",
        "|15|3|\n",
        "\n",
        "（期待値11.5人）"
      ]
    },
    {
      "cell_type": "markdown",
      "metadata": {
        "id": "EC4_qajI2q6y"
      },
      "source": [
        "### プレイヤーの相関関係グラフの可視化"
      ]
    },
    {
      "cell_type": "markdown",
      "metadata": {
        "id": "KMfGqAJ42q6y"
      },
      "source": [
        "本問題ではプレイヤー同士の敵対度から人狼と狂人を抽出することでより精度の高い役職推定を実現しました。   \n",
        "では実際に相関関係はどのようになっているでしょうか。   \n",
        "networkxモジュールを用いることによってmax-cut問題におけるプレイヤー同士の敵対関係無向グラフとして可視化してみます。"
      ]
    },
    {
      "cell_type": "code",
      "execution_count": null,
      "metadata": {
        "id": "xyVnDxpwCQc_"
      },
      "outputs": [],
      "source": [
        "# 必要に応じて実行してください\n",
        "# !pip install networkx matplotlib"
      ]
    },
    {
      "cell_type": "code",
      "execution_count": null,
      "metadata": {
        "colab": {
          "base_uri": "https://localhost:8080/",
          "height": 393
        },
        "id": "bhNTPECi2q6y",
        "outputId": "f0b353ae-67f6-411b-9e79-c4e5806bea91"
      },
      "outputs": [
        {
          "name": "stdout",
          "output_type": "stream",
          "text": [
            "assumption graph:\n"
          ]
        },
        {
          "data": {
            "image/png": "[encoded data removed]",
            "text/plain": [
              "<Figure size 432x288 with 1 Axes>"
            ]
          },
          "metadata": {},
          "output_type": "display_data"
        },
        {
          "name": "stdout",
          "output_type": "stream",
          "text": [
            "answer:\n",
            " {0: 'SEER', 1: 'BODYGUARD', 2: 'WEREWOLF', 3: 'VILLAGER', 4: 'WEREWOLF', 5: 'VILLAGER', 6: 'VILLAGER', 7: 'POSSESSED', 8: 'MEDIUM', 9: 'VILLAGER', 10: 'VILLAGER', 11: 'VILLAGER', 12: 'VILLAGER', 13: 'VILLAGER', 14: 'WEREWOLF'}\n"
          ]
        }
      ],
      "source": [
        "import matplotlib.pyplot as plt\n",
        "import networkx as nx\n",
        "\n",
        "G = nx.complete_graph(n_player)\n",
        "for (u, v) in G.edges():\n",
        "    G.edges[(u, v)][\"weight\"] = hatred_list[day-2][u][v]\n",
        "\n",
        "assumption_role = {}\n",
        "for i in range(n_player):\n",
        "    for j in range(n_role):\n",
        "        if role_values[j][i] == 1:\n",
        "            assumption_role[i] = dic2[j]\n",
        "\n",
        "color_map = []\n",
        "for node in G:\n",
        "    if assumption_role[node] == \"WEREWOLF\":\n",
        "        color_map.append(\"red\")\n",
        "    elif assumption_role[node] == \"POSSESSED\":\n",
        "        color_map.append(\"gray\")\n",
        "    elif assumption_role[node] == \"SEER\":\n",
        "        color_map.append(\"lightblue\")\n",
        "    elif assumption_role[node] == \"MEDIUM\":\n",
        "        color_map.append(\"purple\")\n",
        "    elif assumption_role[node] == \"BODYGUARD\":\n",
        "        color_map.append(\"yellow\")\n",
        "    else:\n",
        "        color_map.append(\"white\")\n",
        "\n",
        "nx.draw(G, node_color=color_map, with_labels=True, width=0.3)\n",
        "print(\"assumption graph:\")\n",
        "plt.show()\n",
        "print(\"answer:\\n\", true_role)"
      ]
    },
    {
      "cell_type": "markdown",
      "metadata": {
        "id": "bg3yHK-L2q6y"
      },
      "source": [
        "無向グラフが出力されました。   \n",
        "それぞれのノードは推定結果に基づき色付けされており, 赤が人狼, 灰色が狂人, 黄色が守護者, 水色が占い師, 紫色が霊媒師に該当します。   \n",
        "この無向グラフを見ると推定された人狼と狂人は他のプレイヤーと離れた位置にいる傾向が認められますが, 実際の狂人は7番であり村人と固まった位置にあることが分かります。この点からも狂人判定の難しさが読み取れます。"
      ]
    },
    {
      "cell_type": "markdown",
      "metadata": {
        "id": "poU17d4j2q6y"
      },
      "source": [
        "## 実戦における可能性"
      ]
    },
    {
      "cell_type": "markdown",
      "metadata": {
        "id": "GtUr5bR72q6y"
      },
      "source": [
        "今までの最適化は15人のログを基に俯瞰視点で各プレイヤーの役職推定を行っていました。しかし対人ゲームでは自身の役職が分かった状態で会話をして他プレイヤーの役職を予想していく必要があります。   \n",
        "以下では対人ゲームにおいて当事者視点での役職推定を提供することで自身の勝率を高める行動を促進するデモアプリとしての可能性について考察します。"
      ]
    },
    {
      "cell_type": "markdown",
      "metadata": {
        "id": "m8usdoIg2q6y"
      },
      "source": [
        "### 俯瞰視点から当事者視点へ変わることによる方針の変化"
      ]
    },
    {
      "cell_type": "markdown",
      "metadata": {
        "id": "QPx4Vk_j2q6y"
      },
      "source": [
        "俯瞰視点から当事者視点へ変わることで生じる方針の変化としては以下の3点があります。   \n",
        "- バイナリ変数配列に当事者の情報を変数代入することができる\n",
        "- max-cut問題において当事者を排除して考える必要がある\n",
        "- 当事者が人狼ではないことを前提とする（人狼は他人狼を把握しており騙りCOにより特殊役職持ちについても容易に知ることができるため役職推定を利用するメリットが少ない）\n",
        "\n",
        ">当事者が占い師などの特殊役職のとき騙りCOを偽物だと即座に判断することができますが, これは当事者情報さえ変数代入されていれば既存のコードで対応することが可能です。"
      ]
    },
    {
      "cell_type": "markdown",
      "metadata": {
        "id": "Fu0hwy1s2q6y"
      },
      "source": [
        "### 当事者情報取得\n",
        "デモアプリを想定し当事者情報をプルダウンにより取得できるようにします。   \n",
        "今回用いているログにおいてプレイヤー1は占い師なので, プレイヤー1が初日の段階で人狼の可能性が高いプレイヤーを取得し占い対象として選択したい状況を想定してみます。   \n",
        "下のコードを実行しプルダウンが表示されたらプレイヤー番号を1, 分析日を1と選択してください。"
      ]
    },
    {
      "cell_type": "code",
      "execution_count": null,
      "metadata": {
        "colab": {
          "base_uri": "https://localhost:8080/",
          "height": 81,
          "referenced_widgets": [
            "8261c6cf944846f69a5d45c66794394f",
            "1eb11e01b46d40f7818633fff1f1192e",
            "68e620834dbd4ede9d8f40ad27897887",
            "2c5f29a8ee4a487b9ddb71492fda4a1a",
            "dee0a69fe66e41bd817924568eb81eb4",
            "6f44f71b4fd1451592c5f23e780403ac",
            "5affe6f076ca402f8548a044fc74b619",
            "6c8510cef2c84db28273c13b3926d7e8",
            "ddab0ca4587c4f44b4cba1d51c484893",
            "818aa894a5eb4c9da6f4e31c7085211b",
            "2d3f4534d2c042d0b067d9450bc72540",
            "c451785252ab4bc3b66428f6d54641d4",
            "46b3a57b43424329b6de2978fbde3b55",
            "3bb418e79ee24925959dea769a7f3151"
          ]
        },
        "id": "-5UPCUi32q6y",
        "outputId": "5daf0da1-1ff3-421e-aaac-c42f87608e19",
        "scrolled": true
      },
      "outputs": [
        {
          "data": {
            "application/vnd.jupyter.widget-view+json": {
              "model_id": "8261c6cf944846f69a5d45c66794394f",
              "version_major": 2,
              "version_minor": 0
            },
            "text/plain": [
              "interactive(children=(Dropdown(description='番号:', options=((1, 0), (2, 1), (3, 2), (4, 3), (5, 4), (6, 5), (7,…"
            ]
          },
          "metadata": {},
          "output_type": "display_data"
        },
        {
          "data": {
            "application/vnd.jupyter.widget-view+json": {
              "model_id": "6c8510cef2c84db28273c13b3926d7e8",
              "version_major": 2,
              "version_minor": 0
            },
            "text/plain": [
              "interactive(children=(Dropdown(description='分析日:', options=((1, 1), (2, 2), (3, 3)), value=1), Output()), _dom…"
            ]
          },
          "metadata": {},
          "output_type": "display_data"
        }
      ],
      "source": [
        "from ipywidgets import Dropdown, interact\n",
        "\n",
        "option_player_list = []\n",
        "for i in range(n_player):\n",
        "    option_player_list.append((i+1, i))\n",
        "number_select = Dropdown(\n",
        "    options=option_player_list,\n",
        "    description=\"番号:\",\n",
        ")\n",
        "\n",
        "option_day_list = []\n",
        "for i in range(day-2):\n",
        "    option_day_list.append((i+1, i+1))\n",
        "day_select = Dropdown(\n",
        "    options=option_day_list,\n",
        "    description=\"分析日:\",\n",
        ")\n",
        "\n",
        "playernum = -1\n",
        "roleindex = -1\n",
        "day_optimize = -1\n",
        "\n",
        "@interact(number_select=number_select)\n",
        "def get_playernum(number_select):\n",
        "    global playernum\n",
        "    playernum = number_select\n",
        "    global roleindex\n",
        "    roleindex = dic[true_role[playernum]]\n",
        "\n",
        "\n",
        "@interact(day_select=day_select)\n",
        "def get_day_optimize(day_select):\n",
        "    global day_optimize\n",
        "    day_optimize = day_select\n"
      ]
    },
    {
      "cell_type": "markdown",
      "metadata": {
        "id": "UPfZZsA-2q6z"
      },
      "source": [
        "### 最適化\n",
        "それでは実際に当事者視点での最適化を実行してみましょう。俯瞰視点でのプログラムから変更した部分にコメントを付しているので適宜参照してください。   "
      ]
    },
    {
      "cell_type": "code",
      "execution_count": null,
      "metadata": {
        "colab": {
          "base_uri": "https://localhost:8080/"
        },
        "id": "L5cLF9QS2q6z",
        "outputId": "305992cf-dbbd-44c8-a43d-00b6ba2f8988"
      },
      "outputs": [
        {
          "name": "stdout",
          "output_type": "stream",
          "text": [
            "optimization result:\n",
            "     player number       role\n",
            "0               0       SEER\n",
            "1               1  BODYGUARD\n",
            "2               2   WEREWOLF\n",
            "3               3   VILLAGER\n",
            "4               4   WEREWOLF\n",
            "5               5   VILLAGER\n",
            "6               6   WEREWOLF\n",
            "7               7   VILLAGER\n",
            "8               8     MEDIUM\n",
            "9               9   VILLAGER\n",
            "10             10   VILLAGER\n",
            "11             11   VILLAGER\n",
            "12             12   VILLAGER\n",
            "13             13   VILLAGER\n",
            "14             14  POSSESSED\n"
          ]
        }
      ],
      "source": [
        "wolf_division2 = gen.array(n_player)\n",
        "# 当事者情報代入\n",
        "wolf_division2[playernum] = 0\n",
        "\n",
        "possessed_division2 = gen.array(n_player)\n",
        "# 当事者情報代入\n",
        "possessed_division2[playernum] = 0\n",
        "\n",
        "role_estimation2 = gen.array(n_role, n_player)\n",
        "# 当事者情報代入\n",
        "role_estimation2[roleindex, playernum] = 1\n",
        "\n",
        "constraints_list_wolf = []\n",
        "constraints_list_role = []\n",
        "\n",
        "hatred = [[0 for _ in range(n_player)] for _ in range(n_player)]\n",
        "hatred_list = [[[0 for _ in range(n_player)] for _ in range(n_player)]]\n",
        "\n",
        "wolf_likely = [0 for _ in range(n_player)]\n",
        "wolf_likely_list = [[0 for _ in range(n_player)]]\n",
        "\n",
        "assumption_array_list = [\n",
        "    [[[0 for _ in range(n_player)] for _ in range(n_player)] for _ in range(n_role)]\n",
        "]\n",
        "assumption_array = [\n",
        "    [[0 for _ in range(n_player)] for _ in range(n_player)] for _ in range(n_role)\n",
        "]\n",
        "\n",
        "CO_penalty_list = []\n",
        "\n",
        "CO_list = [-1 for _ in range(n_player)]\n",
        "\n",
        "for i in range(1, day_optimize + 1):\n",
        "    hatred = time_alive_2(hatred, 0.5, i, status_list)\n",
        "    wolf_likely = time_alive_1(wolf_likely, 1, i, status_list)\n",
        "    assumption_array = time_alive_3(assumption_array, 0, i, status_list)\n",
        "\n",
        "    vote(i, hatred, status_list)\n",
        "\n",
        "    talk_list_day = talk_list[i - 1].values\n",
        "    for j in range(len(talk_list_day)):\n",
        "        if talk_list_day[j][1] == \"Over\" or talk_list_day[j][1] == \"Skip\":\n",
        "            continue\n",
        "        else:\n",
        "            a = talk_list_day[j][1].split()\n",
        "            if a[0] == \"VOTE\":\n",
        "                vote_declaration(\n",
        "                    a, int(talk_list_day[j][0]) - 1, assumption_array, hatred\n",
        "                )\n",
        "            elif a[0] == \"COMINGOUT\":\n",
        "                comingout(a, int(talk_list_day[j][0]) - 1, assumption_array, CO_list)\n",
        "            elif a[0] == \"DIVINED\":\n",
        "                divined(\n",
        "                    a,\n",
        "                    int(talk_list_day[j][0]) - 1,\n",
        "                    assumption_array,\n",
        "                    wolf_likely,\n",
        "                    wolf_division2,\n",
        "                    role_estimation2,\n",
        "                )\n",
        "            elif a[0] == \"ESTIMATE\":\n",
        "                estimate(a, int(talk_list_day[j][0]) - 1, assumption_array)\n",
        "            elif a[0] == \"REQUEST\":\n",
        "                request(a, int(talk_list_day[j][0]) - 1, assumption_array, hatred)\n",
        "            elif a[0] == \"IDENTIFIED\":\n",
        "                identified(\n",
        "                    a,\n",
        "                    int(talk_list_day[j][0]) - 1,\n",
        "                    assumption_array,\n",
        "                    wolf_likely,\n",
        "                    wolf_division2,\n",
        "                    role_estimation2,\n",
        "                )\n",
        "\n",
        "    comingout_analysis(\n",
        "        assumption_array,\n",
        "        wolf_likely,\n",
        "        wolf_division2,\n",
        "        possessed_division2,\n",
        "        role_estimation2,\n",
        "        CO_penalty_list,\n",
        "        constraints_list_wolf,\n",
        "        constraints_list_role,\n",
        "    )\n",
        "\n",
        "    if (\n",
        "        i < day - 2\n",
        "        and len(attacked_list[i][0]) != 0\n",
        "        and attacked_list[i][0][3] == \"true\"\n",
        "    ):\n",
        "        attacked(\n",
        "            assumption_array, wolf_likely, wolf_division2, role_estimation2, CO_list\n",
        "        )\n",
        "\n",
        "    adjust(assumption_array)\n",
        "    assumption_array_list.append(assumption_array)\n",
        "\n",
        "    wolf_likely_list.append(wolf_likely)\n",
        "\n",
        "    hatred = standardize_list_2(hatred)\n",
        "    hatred_list.append(hatred)\n",
        "\n",
        "\n",
        "# 1回目の最適化\n",
        "wolf_likely_list[day_optimize] = standardize_list(wolf_likely_list[day_optimize])\n",
        "\n",
        "# 当事者をmax-cutから除外するために当事者の該当hatred/wolf_hを0埋めする\n",
        "for i in range(n_player):\n",
        "    hatred_list[day_optimize][playernum][i] = 0\n",
        "    hatred_list[day_optimize][i][playernum] = 0\n",
        "wolf_likely_list[day_optimize][playernum] = 0\n",
        "\n",
        "cost_wolf = sum_poly(\n",
        "    n_player,\n",
        "    lambda i: sum_poly(\n",
        "        n_player,\n",
        "        lambda j: hatred_list[day_optimize][i][j]\n",
        "        * (2 * wolf_division2[i] - 1)\n",
        "        * (2 * wolf_division2[j] - 1),\n",
        "    ),\n",
        ") - sum_poly(\n",
        "    n_player, lambda i: wolf_likely_list[day_optimize][i] * (2 * wolf_division2[i] - 1)\n",
        ")\n",
        "\n",
        "log_constraints_wolf = []\n",
        "for f in constraints_list_wolf:\n",
        "    log_constraints_wolf.append(f())\n",
        "\n",
        "wolf_constraints = equal_to(wolf_division2.sum(), n_werewolf)\n",
        "\n",
        "constraints = sum(log_constraints_wolf) + wolf_constraints\n",
        "\n",
        "model_wolf = cost_wolf + penalty * constraints\n",
        "\n",
        "client = FixstarsClient()\n",
        "client.parameters.timeout = 6000\n",
        "client.token = \"dRUQFpWYe2yGaq79bz9wmA8WNM2L3ZX9\"\n",
        "client.parameters.outputs.duplicate = True\n",
        "solver = Solver(client)\n",
        "\n",
        "if all_inserted(wolf_division2) == 1:\n",
        "    wolf_values = wolf_division2\n",
        "else:\n",
        "    result_wolf = solver.solve(model_wolf)\n",
        "    if len(result_wolf.solutions) == 0:\n",
        "        raise RuntimeError(\"Any one of constraints is not satisfied.\")\n",
        "\n",
        "    energy = result_wolf.solutions[0].energy\n",
        "    values = result_wolf.solutions[0].values\n",
        "    wolf_values = wolf_division2.decode(values)\n",
        "\n",
        "\n",
        "# 2回目の最適化\n",
        "wolf_index = []\n",
        "\n",
        "for i in range(n_player):\n",
        "    if wolf_values[i] == 1:\n",
        "        wolf_index.append(i)\n",
        "\n",
        "for w in wolf_index:\n",
        "    for i in range(n_player):\n",
        "        hatred_list[day_optimize][w][i] = 0\n",
        "        hatred_list[day_optimize][i][w] = 0\n",
        "    wolf_likely_list[day_optimize][w] = 0\n",
        "\n",
        "cost_possessed = sum_poly(\n",
        "    n_player,\n",
        "    lambda i: sum_poly(\n",
        "        n_player,\n",
        "        lambda j: hatred_list[day_optimize][i][j]\n",
        "        * (2 * possessed_division2[i] - 1)\n",
        "        * (2 * possessed_division2[j] - 1),\n",
        "    ),\n",
        ") - sum_poly(\n",
        "    n_player,\n",
        "    lambda i: wolf_likely_list[day_optimize][i] * (2 * possessed_division2[i] - 1),\n",
        ")\n",
        "\n",
        "possessed_constraints = equal_to(possessed_division2.sum(), n_possessed)\n",
        "\n",
        "model_possessed = cost_possessed + penalty * possessed_constraints\n",
        "result_possessed = solver.solve(model_possessed)\n",
        "if len(result_possessed.solutions) == 0:\n",
        "    raise RuntimeError(\"Any one of constraints is not satisfied.\")\n",
        "\n",
        "energy2 = result_possessed.solutions[0].energy\n",
        "values2 = result_possessed.solutions[0].values\n",
        "possessed_values = possessed_division2.decode(values2)\n",
        "\n",
        "\n",
        "# 3回目の最適化\n",
        "possessed_index = -1\n",
        "\n",
        "for i in range(n_player):\n",
        "    if wolf_values[i] == 1:\n",
        "        if determined(role_estimation2, i) == 0:\n",
        "            role_estimation2[4, i] = 1\n",
        "    if possessed_values[i] == 1:\n",
        "        if (\n",
        "            determined(role_estimation2, i) == 0\n",
        "            and determined_possessed(role_estimation2) == -1\n",
        "        ):\n",
        "            role_estimation2[5, i] = 1\n",
        "            possessed_index = i\n",
        "\n",
        "assumption_array_list = np.array(assumption_array_list)\n",
        "role_list = np.array(role_list)\n",
        "\n",
        "cost_role = sum_poly(\n",
        "    n_role,\n",
        "    lambda role: sum_poly(\n",
        "        n_player,\n",
        "        lambda i: sum_poly(\n",
        "            n_player,\n",
        "            lambda j: (\n",
        "                role_estimation2[role, j]\n",
        "                - assumption_array_list[day_optimize, role, i, j]\n",
        "            )\n",
        "            ** 2,\n",
        "        ),\n",
        "    ),\n",
        ")\n",
        "\n",
        "player_constraints = []\n",
        "for i in range(n_player):\n",
        "    player_constraints.append(one_hot(role_estimation2[:, i].sum()))\n",
        "\n",
        "log_constraints_role = []\n",
        "for f in constraints_list_role:\n",
        "    log_constraints_role.append(f())\n",
        "\n",
        "role_constraints = sum(\n",
        "    equal_to(role_estimation2[0].sum(), n_villager)\n",
        "    + equal_to(role_estimation2[1].sum(), n_seer)\n",
        "    + equal_to(role_estimation2[2].sum(), n_guard)\n",
        "    + equal_to(role_estimation2[3].sum(), n_medium)\n",
        "    + equal_to(role_estimation2[4].sum(), n_werewolf)\n",
        "    + equal_to(role_estimation2[5].sum(), n_possessed)\n",
        ")\n",
        "\n",
        "constraints_role = (\n",
        "    sum(log_constraints_role) + sum(player_constraints) + role_constraints\n",
        ")\n",
        "\n",
        "model_role = cost_role + penalty * constraints_role\n",
        "result_role = solver.solve(model_role)\n",
        "\n",
        "if len(result_role.solutions) == 0:\n",
        "    role_estimation2[5, possessed_index] = 0\n",
        "\n",
        "    cost_role = sum_poly(\n",
        "        n_role,\n",
        "        lambda role: sum_poly(\n",
        "            n_player,\n",
        "            lambda i: sum_poly(\n",
        "                n_player,\n",
        "                lambda j: (\n",
        "                    role_estimation2[role, j]\n",
        "                    - assumption_array_list[day_optimize, role, i, j]\n",
        "                )\n",
        "                ** 2,\n",
        "            ),\n",
        "        ),\n",
        "    )\n",
        "\n",
        "    player_constraints = []\n",
        "    for i in range(n_player):\n",
        "        player_constraints.append(one_hot(role_estimation2[:, i].sum()))\n",
        "\n",
        "    log_constraints_role = []\n",
        "    for f in constraints_list_role:\n",
        "        log_constraints_role.append(f())\n",
        "\n",
        "    role_constraints = sum(\n",
        "        equal_to(role_estimation2[0].sum(), n_villager)\n",
        "        + equal_to(role_estimation2[1].sum(), n_seer)\n",
        "        + equal_to(role_estimation2[2].sum(), n_guard)\n",
        "        + equal_to(role_estimation2[3].sum(), n_medium)\n",
        "        + equal_to(role_estimation2[4].sum(), n_werewolf)\n",
        "        + equal_to(role_estimation2[5].sum(), n_possessed)\n",
        "    )\n",
        "\n",
        "    constraints_role = (\n",
        "        sum(log_constraints_role) + sum(player_constraints) + role_constraints\n",
        "    )\n",
        "\n",
        "    model_role = cost_role + penalty * constraints_role\n",
        "    result_role = solver.solve(model_role)\n",
        "\n",
        "    if len(result_role.solutions) == 0:\n",
        "        raise RuntimeError(\"Any one of constraints is not satisfied.\")\n",
        "\n",
        "energy3 = result_role.solutions[0].energy\n",
        "values3 = result_role.solutions[0].values\n",
        "role_values = role_estimation2.decode(values3)\n",
        "\n",
        "assumption_role = {}\n",
        "for i in range(n_player):\n",
        "    for j in range(n_role):\n",
        "        if role_values[j][i] == 1:\n",
        "            assumption_role[i] = dic2[j]\n",
        "\n",
        "print(\n",
        "    \"optimization result:\\n\",\n",
        "    pd.DataFrame(list(assumption_role.items()), columns=[\"player number\", \"role\"]),\n",
        ")\n"
      ]
    },
    {
      "cell_type": "markdown",
      "metadata": {
        "id": "OLolrSV72q6z"
      },
      "source": [
        "初日の役職推定の結果が出力されました。このログでは初日の段階で人狼を3人中2人正しく検出できているため, 占い師の占い対象のより適切な選択を促進するという目標はある程度達成されることが分かります。   "
      ]
    },
    {
      "cell_type": "markdown",
      "metadata": {
        "id": "WWl84WwN-ccN"
      },
      "source": [
        "また下のプログラムを実行することで正答率の確認を行うこともできます。   \n",
        "先ほどのプルダウンで分析日を変えて実行してみると精度の上昇を確認することができます。"
      ]
    },
    {
      "cell_type": "code",
      "execution_count": null,
      "metadata": {
        "colab": {
          "base_uri": "https://localhost:8080/"
        },
        "id": "L9xvWS-zeDop",
        "outputId": "7f414137-5096-4174-929b-a5a32ee1be79"
      },
      "outputs": [
        {
          "name": "stdout",
          "output_type": "stream",
          "text": [
            "3 / 4 players are correctly identified as wolf_camp\n",
            "seer is correctly identified\n",
            "bodyguard is correctly identified\n",
            "medium is correctly identified\n",
            "totally 12 / 15 players are correctly identified their roles\n"
          ]
        }
      ],
      "source": [
        "# role_arrayとestimated_role_arrayの乖離の評価\n",
        "wolfcamp_identification = 0\n",
        "seer_identification = 0\n",
        "medium_identification = 0\n",
        "guard_identification = 0\n",
        "total_identification = 0\n",
        "for i in range(n_role):\n",
        "    for j in range(n_player):\n",
        "        if i == 1:\n",
        "            seer_identification += int(role_values[i, j]) * role_list[i][j]\n",
        "        elif i == 2:\n",
        "            guard_identification += int(role_values[i, j]) * role_list[i][j]\n",
        "        elif i == 3:\n",
        "            medium_identification += int(role_values[i, j]) * role_list[i][j]\n",
        "        elif i == 4:\n",
        "            wolfcamp_identification += int(role_values[i, j]) * role_list[i][j]\n",
        "            wolfcamp_identification += int(role_values[i, j]) * role_list[i + 1][j]\n",
        "        elif i == 5:\n",
        "            wolfcamp_identification += int(role_values[i, j]) * role_list[i][j]\n",
        "            wolfcamp_identification += int(role_values[i, j]) * role_list[i - 1][j]\n",
        "        total_identification += int(role_values[i, j]) * role_list[i][j]\n",
        "\n",
        "print(wolfcamp_identification, \"/ 4 players are correctly identified as wolf_camp\")\n",
        "if seer_identification == 1:\n",
        "    print(\"seer is correctly identified\")\n",
        "else:\n",
        "    print(\"seer is incorrectly identified\")\n",
        "if guard_identification == 1:\n",
        "    print(\"bodyguard is correctly identified\")\n",
        "else:\n",
        "    print(\"bodyguard is incorrectly identified\")\n",
        "if medium_identification == 1:\n",
        "    print(\"medium is correctly identified\")\n",
        "else:\n",
        "    print(\"medium is incorrectly identified\")\n",
        "print(\n",
        "    \"totally\", total_identification, \"/ 15 players are correctly identified their roles\"\n",
        ")"
      ]
    },
    {
      "cell_type": "markdown",
      "metadata": {
        "id": "Wo5F4uy92q6z"
      },
      "source": [
        "## 最終デモアプリ\n",
        "今回精度評価で用いた100個のログを自由に選べるようにした最終のデモアプリを以下に提示します。   \n",
        "自由に遊んでみてください。"
      ]
    },
    {
      "cell_type": "markdown",
      "metadata": {
        "id": "by-FFebGjccc"
      },
      "source": [
        "### 関数定義\n",
        "初めに必要な関数等をすべてここに定義しておきます。   \n",
        "この章から実行する場合はこのセルを実行してください。"
      ]
    },
    {
      "cell_type": "code",
      "execution_count": null,
      "metadata": {
        "id": "LQ2RSZcgjYmO"
      },
      "outputs": [],
      "source": [
        "n_role = 6  # 役職数\n",
        "n_player = 15  # プレイヤー数\n",
        "n_villager = 8  # 村人の人数\n",
        "n_seer = 1  # 占い師の人数\n",
        "n_medium = 1  # 霊媒師の人数\n",
        "n_guard = 1  # 守護者の人数\n",
        "n_werewolf = 3  # 人狼の人数\n",
        "n_possessed = 1  # 狂人の人数\n",
        "\n",
        "# 役職に対応する役職インデックスを返す辞書\n",
        "dic = {\n",
        "    \"VILLAGER\": 0,\n",
        "    \"SEER\": 1,\n",
        "    \"BODYGUARD\": 2,\n",
        "    \"MEDIUM\": 3,\n",
        "    \"WEREWOLF\": 4,\n",
        "    \"POSSESSED\": 5,\n",
        "    \"HUMAN\": 0,\n",
        "}\n",
        "\n",
        "# 役職インデックスに対応する役職を返す辞書\n",
        "dic2 = {\n",
        "    0: \"VILLAGER\",\n",
        "    1: \"SEER\",\n",
        "    2: \"BODYGUARD\",\n",
        "    3: \"MEDIUM\",\n",
        "    4: \"WEREWOLF\",\n",
        "    5: \"POSSESSED\",\n",
        "}\n",
        "\n",
        "# 陣営を分ける辞書\n",
        "dic_camp = {\n",
        "    \"VILLAGER\": 0,\n",
        "    \"SEER\": 0,\n",
        "    \"BODYGUARD\": 0,\n",
        "    \"MEDIUM\": 0,\n",
        "    \"WEREWOLF\": 1,\n",
        "    \"POSSESSED\": 1,\n",
        "    \"HUMAN\": 0,\n",
        "}\n",
        "\n",
        "# human/werewolfを分ける辞書\n",
        "dic_wolf = {\n",
        "    \"VILLAGER\": 0,\n",
        "    \"SEER\": 0,\n",
        "    \"BODYGUARD\": 0,\n",
        "    \"MEDIUM\": 0,\n",
        "    \"WEREWOLF\": 1,\n",
        "    \"POSSESSED\": 0,\n",
        "    \"HUMAN\": 0,\n",
        "}\n",
        "\n",
        "# Agent[05]などのテキストからプレイヤー番号を取り出す関数\n",
        "def agentnum(text):\n",
        "    n = text[6] + text[7]\n",
        "    return int(n)\n",
        "\n",
        "\n",
        "def vote_declaration(a, talk_player, assumption_array, hatred):\n",
        "    assumption_array[4][talk_player][agentnum(a[1]) - 1] += 0.2\n",
        "    assumption_array[5][talk_player][agentnum(a[1]) - 1] += 0.2\n",
        "    hatred[talk_player][agentnum(a[1]) - 1] += 0.1\n",
        "  \n",
        "def comingout(a, talk_player, assumption_array, CO_list):\n",
        "    CO_list[talk_player] = dic[a[2]]\n",
        "    assumption_array[dic[a[2]]][talk_player][talk_player] += 1\n",
        "    for player in range(n_player):\n",
        "        if player != talk_player:\n",
        "            assumption_array[dic[a[2]]][player][talk_player] += 0.4\n",
        "            assumption_array[4][player][talk_player] += 0.4\n",
        "            assumption_array[5][player][talk_player] += 0.4\n",
        "\n",
        "# 指定された役職のCO人数を返す関数\n",
        "def comingout_num(roleindex, assumption_array):\n",
        "    count = 0\n",
        "    for i in range(n_player):\n",
        "        if assumption_array[roleindex][i][i] >= 1:\n",
        "            count += 1\n",
        "    return count\n",
        "\n",
        "\n",
        "# 判明した真の役職について反対の陣営だと少しでも認識していたプレイヤーの該当要素を修正する関数\n",
        "def change_recognition(assumption_array, role, playernum):\n",
        "    if dic_camp[role] == 0:  # 追放者が村人陣営\n",
        "        for role_index in range(4, 6):\n",
        "            for i in range(n_player):\n",
        "                # 人狼陣営だと思っていればその要素を0に更新\n",
        "                if assumption_array[role_index][i][playernum] > 0:\n",
        "                    assumption_array[role_index][i][playernum] = 0\n",
        "    else:  # 追放者が人狼陣営\n",
        "        for role_index in range(4):\n",
        "            for i in range(n_player):\n",
        "                # 村人陣営だと思っていればその要素を0に更新\n",
        "                if assumption_array[role_index][i][playernum] > 0:\n",
        "                    assumption_array[role_index][i][playernum] = 0\n",
        "\n",
        "\n",
        "def divined(\n",
        "    a, talk_player, assumption_array, wolf_likely, wolf_division, role_estimation\n",
        "):\n",
        "    # 発言者は自身を占い師だと認識\n",
        "    assumption_array[1][talk_player][talk_player] += 1\n",
        "    if comingout_num(1, assumption_array) >= 2:\n",
        "        # 占い師COが複数人いる場合騙りの可能性があるため発言者および発言者を占い師だと思っているプレイヤーに関して情報更新を行う\n",
        "        assumption_array[dic[a[2]]][talk_player][agentnum(a[1]) - 1] += 1\n",
        "        for player in range(n_player):\n",
        "            if (\n",
        "                player != agentnum(a[1]) - 1\n",
        "                and assumption_array[1][player][talk_player] >= 1\n",
        "            ):\n",
        "                assumption_array[dic[a[2]]][player][agentnum(a[1]) - 1] += 1\n",
        "\n",
        "        # 真偽は分からないが少しだけ人狼らしさを加減する\n",
        "        if dic_wolf[a[2]] == 0:\n",
        "            wolf_likely[agentnum(a[1]) - 1] -= 0.1\n",
        "        else:\n",
        "            wolf_likely[agentnum(a[1]) - 1] += 0.5\n",
        "    else:\n",
        "        # 全員に対して情報更新を行う\n",
        "        for player in range(n_player):\n",
        "            if player != agentnum(a[1]) - 1:\n",
        "                assumption_array[dic[a[2]]][player][agentnum(a[1]) - 1] += 1\n",
        "        # role_estimationについて定数代入\n",
        "        if dic[a[2]] == 0:\n",
        "            role_estimation[4, agentnum(a[1]) - 1] = 0\n",
        "        else:\n",
        "            role_estimation[dic[a[2]], agentnum(a[1]) - 1] = 1\n",
        "            wolf_division[agentnum(a[1]) - 1] = 1\n",
        "            wolf_likely[agentnum(a[1]) - 1] = 1\n",
        "        # 今までの情報と判明した占い先プレイヤーの陣営が矛盾する場合は更新\n",
        "        change_recognition(assumption_array, a[2], agentnum(a[1]) - 1)\n",
        "        # 占い師CO1人より変数代入\n",
        "        wolf_division[agentnum(a[1]) - 1] = dic_wolf[a[2]]\n",
        "\n",
        "def estimate(a, talk_player, assumption_array):\n",
        "    assumption_array[dic[a[2]]][talk_player][agentnum(a[1]) - 1] += 0.2\n",
        "\n",
        "def request(a, talk_player, assumption_array, hatred):\n",
        "    if a[2] == \"(VOTE\":\n",
        "        assumption_array[4][talk_player][agentnum(a[3]) - 1] += 0.2\n",
        "        assumption_array[5][talk_player][agentnum(a[3]) - 1] += 0.2\n",
        "        hatred[talk_player][agentnum(a[3]) - 1] += 0.1\n",
        "\n",
        "def identified(\n",
        "    a, talk_player, assumption_array, wolf_likely, wolf_division, role_estimation\n",
        "):\n",
        "    # 発言者は自身を霊媒師だと認識\n",
        "    assumption_array[3][talk_player][talk_player] += 1\n",
        "    if comingout_num(3, assumption_array) >= 2:\n",
        "        # 霊媒師COが複数人いる場合騙りの可能性があるため発言者のみに関して情報更新を行う\n",
        "        for player in range(n_player):\n",
        "            if (\n",
        "                player != agentnum(a[1]) - 1\n",
        "                and assumption_array[3][player][talk_player] >= 1\n",
        "            ):\n",
        "                assumption_array[dic[a[2]]][player][agentnum(a[1]) - 1] += 1\n",
        "        if a[2] == \"HUMAN\":\n",
        "            for role in range(4):\n",
        "                assumption_array[role][talk_player][\n",
        "                    agentnum(a[1]) - 1\n",
        "                ] += 0.3  # TODO: 要探索\n",
        "            assumption_array[5][talk_player][agentnum(a[1]) - 1] += 0.3\n",
        "        else:\n",
        "            assumption_array[4][talk_player][agentnum(a[1]) - 1] += 0.3\n",
        "\n",
        "        # 真偽は分からないが少しだけ人狼らしさを加減する\n",
        "        if dic_wolf[a[2]] == 0:\n",
        "            wolf_likely[agentnum(a[1]) - 1] -= 0.2\n",
        "        else:\n",
        "            wolf_likely[agentnum(a[1]) - 1] += 0.5\n",
        "    else:\n",
        "        # 霊媒師COが0もしくは1人のとき全員に対して情報更新を行う\n",
        "        if a[2] == \"HUMAN\":\n",
        "            # HUMANのときは狂人の可能性も含めてassumption_array加算\n",
        "            for player in range(n_player):\n",
        "                if player != agentnum(a[1]) - 1:\n",
        "                    for role in range(4):\n",
        "                        assumption_array[role][player][\n",
        "                            agentnum(a[1]) - 1\n",
        "                        ] += 0.6  # TODO: 要探索\n",
        "                    assumption_array[5][player][agentnum(a[1]) - 1] += 0.6\n",
        "            # 属性HUMANのとき人狼ではないのでsに定数代入\n",
        "            role_estimation[4, agentnum(a[1]) - 1] = 0\n",
        "        else:\n",
        "            for player in range(n_player):\n",
        "                if player != agentnum(a[1]) - 1:\n",
        "                    assumption_array[4][player][agentnum(a[1]) - 1] += 1\n",
        "            # 属性人狼のときsに定数代入\n",
        "            role_estimation[4, agentnum(a[1]) - 1] = 1\n",
        "            wolf_division[agentnum(a[1]) - 1] = 1 #FIXME: 変更した\n",
        "            wolf_likely[agentnum(a[1]) - 1] = 1\n",
        "        # 今までの情報と判明した追放者の陣営が矛盾する場合は更新\n",
        "        change_recognition(assumption_array, a[2], agentnum(a[1]) - 1)\n",
        "\n",
        "        # 霊媒師COが1人のため変数代入\n",
        "        wolf_division[agentnum(a[1]) - 1] = dic_wolf[a[2]]\n",
        "\n",
        "# 指定された役職のCOしたplayernumを返す関数\n",
        "def comingout_index(roleindex, assumption_array):\n",
        "    a = []\n",
        "    for i in range(n_player):\n",
        "        if assumption_array[roleindex][i][i] >= 1:\n",
        "            a.append(i)\n",
        "    return a\n",
        "\n",
        "\n",
        "# 現段階でプレイヤーiの役職が確定しているか判定する関数\n",
        "def determined(s, i):\n",
        "    counter = -1\n",
        "    for j in range(n_role):\n",
        "        if s[j, i] == 1:\n",
        "            counter = 1\n",
        "    return counter\n",
        "\n",
        "\n",
        "from amplify.constraint import equal_to, less_equal\n",
        "\n",
        "\n",
        "def comingout_analysis(\n",
        "    assumption_array,\n",
        "    wolf_likely,\n",
        "    wolf_division,\n",
        "    possessed_division,\n",
        "    role_estimation,\n",
        "    CO_penalty_list,\n",
        "    constraints_list1,\n",
        "    constraints_list2,\n",
        "):\n",
        "    # CO人数がそのターン終了後に制約を満たしている場合は役職確定とし変数代入\n",
        "    for j in range(n_role):\n",
        "        if comingout_num(j, assumption_array) == 1:\n",
        "            a = comingout_index(j, assumption_array)\n",
        "            if len(a) != 0:\n",
        "                if determined(role_estimation, a[0]) == 0:\n",
        "                    if j != 4:\n",
        "                        wolf_division[a[0]] = 0\n",
        "                    else:\n",
        "                        wolf_division[a[0]] = 1\n",
        "                    role_estimation[j, a[0]] = 1\n",
        "                    possessed_division[a[0]] = 0\n",
        "\n",
        "    # CO人数が制約を超えている時は制約条件を加え、人狼らしさを追加（初回のみ）\n",
        "    for j in range(1, 4):\n",
        "        b = 0\n",
        "        c = 0\n",
        "        if comingout_num(j, assumption_array) > 1:\n",
        "            a = comingout_index(j, assumption_array)\n",
        "            for k in range(len(a)):\n",
        "                b += wolf_division[a[k]]\n",
        "                c += role_estimation[j, a[k]]\n",
        "                if (a[k] in CO_penalty_list) == False:\n",
        "                    wolf_likely[a[k]] += 0.5\n",
        "                    CO_penalty_list.append(a[k])\n",
        "            if b != 0:\n",
        "                constraints_list1.append(lambda b=b: less_equal(b, 1))\n",
        "            if c != 0:\n",
        "                constraints_list2.append(lambda c=c: equal_to(c, 1))\n",
        "            # COしている人は本物/人狼/狂人のいずれか\n",
        "            for index in a:\n",
        "                d = (\n",
        "                    role_estimation[4, index]\n",
        "                    + role_estimation[5, index]\n",
        "                    + role_estimation[j, index]\n",
        "                )\n",
        "                constraints_list2.append(lambda d=d: equal_to(d, 1))\n",
        "\n",
        "# 襲撃されて死亡したプレイヤーはHUMAN（人狼ではない）確定、人狼らしさも減らす\n",
        "def attacked(assumption_array, wolf_likely, wolf_division, role_estimation, CO_list):\n",
        "    wolf_division[attacked_list[i][0][2] - 1] = 0\n",
        "    wolf_likely[attacked_list[i][0][2] - 1] = -1\n",
        "    role_estimation[4, attacked_list[i][0][2] - 1] = 0\n",
        "    # 襲撃されて死亡したプレイヤーがCOしていてそれが複数人いるとき\n",
        "    if (\n",
        "        CO_list[attacked_list[i][0][2] - 1] != -1\n",
        "        and comingout_num(CO_list[attacked_list[i][0][2] - 1], assumption_array) > 1\n",
        "    ):\n",
        "        a = comingout_index(CO_list[attacked_list[i][0][2] - 1], assumption_array)\n",
        "        for j in range(len(a)):\n",
        "            if a[j] != attacked_list[i][0][2] - 1:\n",
        "                wolf_likely[a[j]] = 1\n",
        "\n",
        "# 生存人数を返す関数\n",
        "def num_alive(status_list, day):\n",
        "    count = 0\n",
        "    for i in range(n_player):\n",
        "        count += status_list[day][i]\n",
        "    return count\n",
        "\n",
        "\n",
        "def vote(day, hatred, status_list):\n",
        "    if day != 1:\n",
        "        for j in range(num_alive(status_list, day)):\n",
        "            hatred[vote_list[day - 1][j][2] - 1][int(vote_list[day - 1][j][3]) - 1] = 1\n",
        "\n",
        "# assumption_arrayの生存者に対する要素をn倍する関数\n",
        "def time_alive_3(assumption_array, n, day, status_array):\n",
        "    for role in range(n_role):\n",
        "        for i in range(n_player):\n",
        "            for j in range(n_player):\n",
        "                if i != j and status_array[day][j] == 1 and status_array[day][i] == 1:\n",
        "                    assumption_array[role][i][j] *= n\n",
        "    return assumption_array\n",
        "\n",
        "\n",
        "# hatredの生存者に対する要素をn倍する関数\n",
        "def time_alive_2(hatred, n, day, status_array):\n",
        "    for i in range(n_player):\n",
        "        for j in range(n_player):\n",
        "            if status_array[day][j] == 1 and status_array[day][i] == 1:\n",
        "                hatred[i][j] *= n\n",
        "    return hatred\n",
        "\n",
        "\n",
        "# wolf_hの生存者に対する要素をn倍する関数\n",
        "def time_alive_1(wolf_h, n, day, status_array):\n",
        "    for i in range(n_player):\n",
        "        if status_array[day][i] == 1:\n",
        "            wolf_h[i] *= n\n",
        "    return wolf_h\n",
        "\n",
        "\n",
        "# 値が1より大きくなっている要素について値を1に更新する（値が1より大きくなると目的関数の観点で逆効果のため）\n",
        "def adjust(assumption_array):\n",
        "    for role in range(n_role):\n",
        "        for i in range(n_player):\n",
        "            for j in range(n_player):\n",
        "                if assumption_array[role][i][j] > 1:\n",
        "                    assumption_array[role][i][j] = 1\n",
        "    return assumption_array\n",
        "\n",
        "\n",
        "# 2次元配列の要素の最大の絶対値を返す関数\n",
        "def max_abs_list_2(list):\n",
        "    tmp = 0\n",
        "    for i in range(len(list)):\n",
        "        for j in range(len(list[0])):\n",
        "            if abs(list[i][j]) > tmp:\n",
        "                tmp = abs(list[i][j])\n",
        "    return tmp\n",
        "\n",
        "\n",
        "# 2次元配列を規格化する関数\n",
        "def standardize_list_2(list):\n",
        "    a = float(max_abs_list_2(list))\n",
        "    if a == 0:\n",
        "        return list\n",
        "    for i in range(len(list)):\n",
        "        for j in range(len(list[0])):\n",
        "            list[i][j] = float(list[i][j]) / a\n",
        "    return list\n",
        "\n",
        "# 1次元配列の要素の最大の絶対値を返す関数\n",
        "def max_abs_list(list):\n",
        "    tmp = 0\n",
        "    for i in range(len(list)):\n",
        "        if abs(list[i]) > tmp:\n",
        "            tmp = abs(list[i])\n",
        "    return tmp\n",
        "\n",
        "\n",
        "# 1次元配列を規格化する関数\n",
        "def standardize_list(list):\n",
        "    a = float(max_abs_list(list))\n",
        "    if a == 0:\n",
        "        return list\n",
        "    for i in range(len(list)):\n",
        "        list[i] = float(list[i]) / a\n",
        "    return list\n",
        "\n",
        "\n",
        "# 最適化前に変数代入で答えが分かっているかどうか判定する関数\n",
        "def all_inserted(wolf_division):\n",
        "    flag = 1\n",
        "    for i in range(n_player):\n",
        "        if wolf_division[i] == 0 or wolf_division[i] == 1:\n",
        "            continue\n",
        "        else:\n",
        "            flag = 0\n",
        "    return flag\n",
        "\n",
        "# すでに狂人と確定したプレイヤーがいるか判定する関数\n",
        "def determined_possessed(s):\n",
        "    counter = -1\n",
        "    for j in range(n_player):\n",
        "        if s[5, j] == 1:\n",
        "            counter = 1\n",
        "    return counter\n",
        "\n",
        "\n",
        "\n"
      ]
    },
    {
      "cell_type": "markdown",
      "metadata": {
        "id": "oloxY5IF2q60"
      },
      "source": [
        "### ログの選択"
      ]
    },
    {
      "cell_type": "code",
      "execution_count": null,
      "metadata": {
        "colab": {
          "base_uri": "https://localhost:8080/",
          "height": 49,
          "referenced_widgets": [
            "0253eaa8ac9a455891d0f766d26c6a17",
            "7bd6ad7d44164e778b3db2499b497c74",
            "d4c653b20fe44e8fbcd35075491ea0e6",
            "97b72544bd594a7b893d787d11bcd283",
            "00c1a472c8cd4392b893a75538de2128",
            "fd38249fa8c141988de239b03803a62c",
            "7739615cbc384d98be55bb785ad926aa"
          ]
        },
        "id": "I4NIFe-q2q60",
        "outputId": "e743cd62-ca6e-4905-bbc4-77603421b93c"
      },
      "outputs": [
        {
          "data": {
            "application/vnd.jupyter.widget-view+json": {
              "model_id": "0253eaa8ac9a455891d0f766d26c6a17",
              "version_major": 2,
              "version_minor": 0
            },
            "text/plain": [
              "interactive(children=(Dropdown(description='ログ番号:', options=(0, 1, 2, 3, 4, 5, 6, 7, 8, 9, 10, 11, 12, 13, 14,…"
            ]
          },
          "metadata": {},
          "output_type": "display_data"
        }
      ],
      "source": [
        "from ipywidgets import Dropdown, interact\n",
        "\n",
        "log_list = [i for i in range(100)]\n",
        "log_select = Dropdown(\n",
        "    options=log_list,\n",
        "    description=\"ログ番号:\",\n",
        ")\n",
        "\n",
        "log = -1\n",
        "s = \"\"\n",
        "@interact(log_select=log_select)\n",
        "def get_log(log_select):\n",
        "  global log\n",
        "  global s\n",
        "  log = log_select\n",
        "  log = f\"{log:03}\"\n",
        "  s = \"./drive/MyDrive/game/\"+log+\".log\""
      ]
    },
    {
      "cell_type": "markdown",
      "metadata": {
        "id": "xb61Q0UQpO_7"
      },
      "source": [
        "### ログから必要な情報を抽出"
      ]
    },
    {
      "cell_type": "code",
      "execution_count": null,
      "metadata": {
        "id": "r_5Q-23QiJCI"
      },
      "outputs": [],
      "source": [
        "import pandas as pd \n",
        "df = pd.read_csv(s)\n",
        "\n",
        "df_list = []\n",
        "status_list_tmp = []\n",
        "vote_list = []\n",
        "attacked_list = []\n",
        "role_list = [[0 for _ in range(n_player)] for _ in range(n_role)]\n",
        "talk_list = []\n",
        "\n",
        "# 日にち毎にdataframeを分割\n",
        "day = 0\n",
        "while True:\n",
        "    if df[df[\"day\"] == day].empty:\n",
        "        break\n",
        "    else:\n",
        "        df_list.append(df[df[\"day\"] == day])\n",
        "        day += 1\n",
        "\n",
        "# status_list作成\n",
        "for i in range(day):\n",
        "    status_list_tmp.append(df_list[i][df_list[i][\"class\"] == \"status\"].values)\n",
        "\n",
        "status_list = [[1 for _ in range(n_player)] for _ in range(day)]\n",
        "\n",
        "for i in range(day):\n",
        "    for j in range(n_player):\n",
        "        if status_list_tmp[i][j][4] == \"DEAD\":\n",
        "            status_list[i][j] = 0\n",
        "\n",
        "# vote_list作成（インデックス注意、0日目と最終日にvoteは存在しない）\n",
        "for i in range(day):\n",
        "    vote_list.append(df_list[i][df_list[i][\"class\"] == \"vote\"].values)\n",
        "\n",
        "# attacked_list作成(インデックス注意、0日目と最終日にattackは存在しない)\n",
        "for i in range(day):\n",
        "    attacked_list.append(df_list[i][df_list[i][\"class\"] == \"attack\"].values)\n",
        "\n",
        "# true_role, role_list作成\n",
        "df_status_list = status_list_tmp[0]\n",
        "\n",
        "true_role = {}\n",
        "for i in range(len(df_status_list)):\n",
        "    true_role[i] = df_status_list[i][3]\n",
        "\n",
        "for i in range(len(status_list[0])):\n",
        "    role_list[dic[df_status_list[i][3]]][df_status_list[i][2] - 1] = 1\n",
        "\n",
        "# day1以降のdataframeについて不必要なclassおよびカラムを削除\n",
        "for i in range(1, day - 1):\n",
        "    df_list[i] = df_list[i][df_list[i][\"class\"] == \"talk\"]\n",
        "    drop_col = [\"day\", \"class\", \"a\", \"b\"]\n",
        "    talk_list.append(\n",
        "        df_list[i]\n",
        "        .drop(drop_col, axis=1)\n",
        "        .rename(columns={\"c\": \"playernum\", \"d\": \"action\"})\n",
        "    )"
      ]
    },
    {
      "cell_type": "code",
      "execution_count": null,
      "metadata": {
        "colab": {
          "base_uri": "https://localhost:8080/"
        },
        "id": "-_havdIbi5KP",
        "outputId": "a0204b5e-06df-4b4b-c0ec-6839e2fc26d8"
      },
      "outputs": [
        {
          "name": "stdout",
          "output_type": "stream",
          "text": [
            "{0: 'VILLAGER', 1: 'WEREWOLF', 2: 'VILLAGER', 3: 'VILLAGER', 4: 'VILLAGER', 5: 'POSSESSED', 6: 'VILLAGER', 7: 'VILLAGER', 8: 'MEDIUM', 9: 'VILLAGER', 10: 'WEREWOLF', 11: 'WEREWOLF', 12: 'SEER', 13: 'BODYGUARD', 14: 'VILLAGER'}\n"
          ]
        }
      ],
      "source": [
        "print(true_role)"
      ]
    },
    {
      "cell_type": "markdown",
      "metadata": {
        "id": "Vp6PzXLv2q60"
      },
      "source": [
        "### プレイヤー番号, 解析日の選択\n",
        "先ほど出力したtrue_roleに従って当事者を選択してください。   \n",
        "プルダウンは0-indexedではないことに注意してください。   \n",
        "（true_roleにおける3番プレイヤーを選択する場合プルダウンでは4番を選択します）"
      ]
    },
    {
      "cell_type": "code",
      "execution_count": 209,
      "metadata": {
        "colab": {
          "base_uri": "https://localhost:8080/",
          "height": 81,
          "referenced_widgets": [
            "8b4646dab8c44cb1852109d4b2cce734",
            "4ec660ed50fa4b139b60f553d94b8561",
            "49eeb9e91b144071881afbca062846c9",
            "367f3e9bda7b40be9d6e355536b58a71",
            "35700d8b7e604f649d90892c0229a05f",
            "47924f04ff3149fe93e929fc4fc8e45a",
            "b05954d139f44337aca706c658f12667",
            "7164ae55a0c24dba9b5bcc9cbf214ede",
            "a46bd2c6426f46a78e0d8694632552fc",
            "d4f2922d457b48168fc80949e25ce48e",
            "dfc334fb9a694ae3aea47cd18f0ba50c",
            "46ae13de235f40df926cdc3b841cb7f7",
            "96a6e2f979d84fc9bccb2e5ca8843ada",
            "eef2679a089049848bce7148aad6c681"
          ]
        },
        "id": "wJJyzdXW2q60",
        "outputId": "ace9fda7-3970-488b-e13c-56f366ecb2b1"
      },
      "outputs": [
        {
          "data": {
            "application/vnd.jupyter.widget-view+json": {
              "model_id": "8b4646dab8c44cb1852109d4b2cce734",
              "version_major": 2,
              "version_minor": 0
            },
            "text/plain": [
              "interactive(children=(Dropdown(description='番号:', options=((1, 0), (2, 1), (3, 2), (4, 3), (5, 4), (6, 5), (7,…"
            ]
          },
          "metadata": {},
          "output_type": "display_data"
        },
        {
          "data": {
            "application/vnd.jupyter.widget-view+json": {
              "model_id": "7164ae55a0c24dba9b5bcc9cbf214ede",
              "version_major": 2,
              "version_minor": 0
            },
            "text/plain": [
              "interactive(children=(Dropdown(description='分析日:', options=((1, 1), (2, 2), (3, 3), (4, 4)), value=1), Output(…"
            ]
          },
          "metadata": {},
          "output_type": "display_data"
        }
      ],
      "source": [
        "option_player_list = []\n",
        "for i in range(n_player):\n",
        "    option_player_list.append((i+1, i))\n",
        "number_select = Dropdown(\n",
        "    options=option_player_list,\n",
        "    description=\"番号:\",\n",
        ")\n",
        "\n",
        "option_day_list = []\n",
        "for i in range(day-2):\n",
        "    option_day_list.append((i+1, i+1))\n",
        "day_select = Dropdown(\n",
        "    options=option_day_list,\n",
        "    description=\"分析日:\",\n",
        ")\n",
        "\n",
        "playernum = -1\n",
        "roleindex = -1\n",
        "day_optimize = -1\n",
        "\n",
        "@interact(number_select=number_select)\n",
        "def get_playernum(number_select):\n",
        "    global playernum\n",
        "    playernum = number_select\n",
        "    global roleindex\n",
        "    roleindex = dic[true_role[playernum]]\n",
        "\n",
        "@interact(day_select=day_select)\n",
        "def get_day_optimize(day_select):\n",
        "    global day_optimize\n",
        "    day_optimize = day_select\n"
      ]
    },
    {
      "cell_type": "markdown",
      "metadata": {
        "id": "s-tLugRT2q60"
      },
      "source": [
        "### 役職分析の実行"
      ]
    },
    {
      "cell_type": "code",
      "execution_count": 210,
      "metadata": {
        "colab": {
          "base_uri": "https://localhost:8080/"
        },
        "id": "8Ydem6gf2q60",
        "outputId": "d8726245-4ede-456f-d7ca-15a8090bca63"
      },
      "outputs": [
        {
          "name": "stdout",
          "output_type": "stream",
          "text": [
            "1\n",
            "optimization result:\n",
            "     player number       role\n",
            "0               0   VILLAGER\n",
            "1               1   WEREWOLF\n",
            "2               2   VILLAGER\n",
            "3               3   VILLAGER\n",
            "4               4   VILLAGER\n",
            "5               5   VILLAGER\n",
            "6               6   VILLAGER\n",
            "7               7  POSSESSED\n",
            "8               8     MEDIUM\n",
            "9               9   VILLAGER\n",
            "10             10   WEREWOLF\n",
            "11             11   WEREWOLF\n",
            "12             12       SEER\n",
            "13             13  BODYGUARD\n",
            "14             14   VILLAGER\n"
          ]
        }
      ],
      "source": [
        "from amplify import BinarySymbolGenerator, sum_poly, Solver\n",
        "from amplify.client import FixstarsClient\n",
        "from amplify.constraint import one_hot, equal_to, less_equal\n",
        "import numpy as np\n",
        "\n",
        "gen = BinarySymbolGenerator()\n",
        "wolf_division2 = gen.array(n_player)\n",
        "wolf_division2[playernum] = 0\n",
        "\n",
        "possessed_division2 = gen.array(n_player)\n",
        "possessed_division2[playernum] = 0\n",
        "\n",
        "role_estimation2 = gen.array(n_role, n_player)\n",
        "role_estimation2[roleindex, playernum] = 1\n",
        "\n",
        "constraints_list_wolf = []\n",
        "constraints_list_role = []\n",
        "\n",
        "hatred = [[0 for _ in range(n_player)] for _ in range(n_player)]\n",
        "hatred_list = [[[0 for _ in range(n_player)] for _ in range(n_player)]]\n",
        "\n",
        "wolf_likely = [0 for _ in range(n_player)]\n",
        "wolf_likely_list = [[0 for _ in range(n_player)]]\n",
        "\n",
        "assumption_array_list = [\n",
        "    [[[0 for _ in range(n_player)] for _ in range(n_player)] for _ in range(n_role)]\n",
        "]\n",
        "assumption_array = [\n",
        "    [[0 for _ in range(n_player)] for _ in range(n_player)] for _ in range(n_role)\n",
        "]\n",
        "\n",
        "CO_penalty_list = []\n",
        "\n",
        "CO_list = [-1 for _ in range(n_player)]\n",
        "\n",
        "for i in range(1, day - 1):\n",
        "    hatred = time_alive_2(hatred, 0.5, i, status_list)\n",
        "    wolf_likely = time_alive_1(wolf_likely, 1, i, status_list)\n",
        "    assumption_array = time_alive_3(assumption_array, 0, i, status_list)\n",
        "\n",
        "    vote(i, hatred, status_list)\n",
        "\n",
        "    talk_list_day = talk_list[i - 1].values\n",
        "    for j in range(len(talk_list_day)):\n",
        "        if talk_list_day[j][1] == \"Over\" or talk_list_day[j][1] == \"Skip\":\n",
        "            continue\n",
        "        else:\n",
        "            a = talk_list_day[j][1].split()\n",
        "            if a[0] == \"VOTE\":\n",
        "                vote_declaration(\n",
        "                    a, int(talk_list_day[j][0]) - 1, assumption_array, hatred\n",
        "                )\n",
        "            elif a[0] == \"COMINGOUT\":\n",
        "                comingout(a, int(talk_list_day[j][0]) - 1, assumption_array, CO_list)\n",
        "            elif a[0] == \"DIVINED\":\n",
        "                divined(\n",
        "                    a,\n",
        "                    int(talk_list_day[j][0]) - 1,\n",
        "                    assumption_array,\n",
        "                    wolf_likely,\n",
        "                    wolf_division,\n",
        "                    role_estimation,\n",
        "                )\n",
        "            elif a[0] == \"ESTIMATE\":\n",
        "                estimate(a, int(talk_list_day[j][0]) - 1, assumption_array)\n",
        "            elif a[0] == \"REQUEST\":\n",
        "                request(a, int(talk_list_day[j][0]) - 1, assumption_array, hatred)\n",
        "            elif a[0] == \"IDENTIFIED\":\n",
        "                identified(\n",
        "                    a,\n",
        "                    int(talk_list_day[j][0]) - 1,\n",
        "                    assumption_array,\n",
        "                    wolf_likely,\n",
        "                    wolf_division,\n",
        "                    role_estimation,\n",
        "                )\n",
        "\n",
        "    comingout_analysis(\n",
        "        assumption_array,\n",
        "        wolf_likely,\n",
        "        wolf_division,\n",
        "        possessed_division,\n",
        "        role_estimation,\n",
        "        CO_penalty_list,\n",
        "        constraints_list_wolf,\n",
        "        constraints_list_role,\n",
        "    )\n",
        "\n",
        "    if (\n",
        "        i < day - 2\n",
        "        and len(attacked_list[i][0]) != 0\n",
        "        and attacked_list[i][0][3] == \"true\"\n",
        "    ):\n",
        "        attacked(assumption_array, wolf_likely, wolf_division, role_estimation, CO_list)\n",
        "\n",
        "    adjust(assumption_array)\n",
        "    assumption_array_list.append(assumption_array)\n",
        "\n",
        "    wolf_likely_list.append(wolf_likely)\n",
        "\n",
        "    hatred = standardize_list_2(hatred)\n",
        "    hatred_list.append(hatred)\n",
        "  \n",
        "wolf_likely_list[day_optimize] = standardize_list(wolf_likely_list[day_optimize])\n",
        "\n",
        "for i in range(n_player):\n",
        "    hatred_list[day_optimize][playernum][i] = 0\n",
        "    hatred_list[day_optimize][i][playernum] = 0\n",
        "wolf_likely_list[day_optimize][playernum] = 0\n",
        "\n",
        "cost_wolf = sum_poly(\n",
        "    n_player,\n",
        "    lambda i: sum_poly(\n",
        "        n_player,\n",
        "        lambda j: hatred_list[day_optimize][i][j]\n",
        "        * (2 * wolf_division2[i] - 1)\n",
        "        * (2 * wolf_division2[j] - 1),\n",
        "    ),\n",
        ") - sum_poly(\n",
        "    n_player, lambda i: wolf_likely_list[day_optimize][i] * (2 * wolf_division2[i] - 1)\n",
        ")\n",
        "\n",
        "log_constraints_wolf = []\n",
        "for f in constraints_list_wolf:\n",
        "    log_constraints_wolf.append(f())\n",
        "\n",
        "wolf_constraints = equal_to(wolf_division2.sum(), n_werewolf)\n",
        "\n",
        "constraints = sum(log_constraints_wolf) + wolf_constraints\n",
        "\n",
        "penalty = 15\n",
        "\n",
        "model_wolf = cost_wolf + penalty * constraints\n",
        "\n",
        "client = FixstarsClient()\n",
        "client.parameters.timeout = 6000\n",
        "client.token = \"dRUQFpWYe2yGaq79bz9wmA8WNM2L3ZX9\"\n",
        "client.parameters.outputs.duplicate = True\n",
        "solver = Solver(client)\n",
        "\n",
        "if all_inserted(wolf_division2) == 1:\n",
        "    wolf_values = wolf_division2\n",
        "else:\n",
        "    result_wolf = solver.solve(model_wolf)\n",
        "    if len(result_wolf.solutions) == 0:\n",
        "        raise RuntimeError(\"Any one of constraints is not satisfied.\")\n",
        "\n",
        "    energy = result_wolf.solutions[0].energy\n",
        "    values = result_wolf.solutions[0].values\n",
        "    wolf_values = wolf_division2.decode(values)\n",
        "\n",
        "wolf_index = []\n",
        "\n",
        "for i in range(n_player):\n",
        "    if wolf_values[i] == 1:\n",
        "        wolf_index.append(i)\n",
        "\n",
        "for w in wolf_index:\n",
        "    for i in range(n_player):\n",
        "        hatred_list[day_optimize][w][i] = 0\n",
        "        hatred_list[day_optimize][i][w] = 0\n",
        "    wolf_likely_list[day_optimize][w] = 0\n",
        "\n",
        "cost_possessed = sum_poly(\n",
        "    n_player,\n",
        "    lambda i: sum_poly(\n",
        "        n_player,\n",
        "        lambda j: hatred_list[day_optimize][i][j]\n",
        "        * (2 * possessed_division2[i] - 1)\n",
        "        * (2 * possessed_division2[j] - 1),\n",
        "    ),\n",
        ") - sum_poly(\n",
        "    n_player,\n",
        "    lambda i: wolf_likely_list[day_optimize][i] * (2 * possessed_division2[i] - 1),\n",
        ")\n",
        "\n",
        "possessed_constraints = equal_to(possessed_division2.sum(), n_possessed)\n",
        "\n",
        "model_possessed = cost_possessed + penalty * possessed_constraints\n",
        "result_possessed = solver.solve(model_possessed)\n",
        "if len(result_possessed.solutions) == 0:\n",
        "    raise RuntimeError(\"Any one of constraints is not satisfied.\")\n",
        "\n",
        "energy2 = result_possessed.solutions[0].energy\n",
        "values2 = result_possessed.solutions[0].values\n",
        "possessed_values = possessed_division2.decode(values2)\n",
        "\n",
        "possessed_index = -1\n",
        "\n",
        "for i in range(n_player):\n",
        "    if wolf_values[i] == 1:\n",
        "        if determined(role_estimation2, i) == 0:\n",
        "            role_estimation2[4, i] = 1\n",
        "    if possessed_values[i] == 1:\n",
        "        if (\n",
        "            determined(role_estimation2, i) == 0\n",
        "            and determined_possessed(role_estimation2) == -1\n",
        "        ):\n",
        "            role_estimation2[5, i] = 1\n",
        "            possessed_index = i\n",
        "\n",
        "assumption_array_list = np.array(assumption_array_list)\n",
        "role_list = np.array(role_list)\n",
        "\n",
        "cost_role = sum_poly(\n",
        "    n_role,\n",
        "    lambda role: sum_poly(\n",
        "        n_player,\n",
        "        lambda i: sum_poly(\n",
        "            n_player,\n",
        "            lambda j: (\n",
        "                role_estimation2[role, j]\n",
        "                - assumption_array_list[day_optimize, role, i, j]\n",
        "            )\n",
        "            ** 2,\n",
        "        ),\n",
        "    ),\n",
        ")\n",
        "\n",
        "player_constraints = []\n",
        "for i in range(n_player):\n",
        "    player_constraints.append(one_hot(role_estimation2[:, i].sum()))\n",
        "\n",
        "log_constraints_role = []\n",
        "for f in constraints_list_role:\n",
        "    log_constraints_role.append(f())\n",
        "\n",
        "role_constraints = sum(\n",
        "    equal_to(role_estimation2[0].sum(), n_villager)\n",
        "    + equal_to(role_estimation2[1].sum(), n_seer)\n",
        "    + equal_to(role_estimation2[2].sum(), n_guard)\n",
        "    + equal_to(role_estimation2[3].sum(), n_medium)\n",
        "    + equal_to(role_estimation2[4].sum(), n_werewolf)\n",
        "    + equal_to(role_estimation2[5].sum(), n_possessed)\n",
        ")\n",
        "\n",
        "constraints_role = (\n",
        "    sum(log_constraints_role) + sum(player_constraints) + role_constraints\n",
        ")\n",
        "\n",
        "model_role = cost_role + penalty * constraints_role\n",
        "result_role = solver.solve(model_role)\n",
        "\n",
        "if len(result_role.solutions) == 0:\n",
        "    role_estimation2[5, possessed_index] = 0\n",
        "\n",
        "    cost_role = sum_poly(\n",
        "        n_role,\n",
        "        lambda role: sum_poly(\n",
        "            n_player,\n",
        "            lambda i: sum_poly(\n",
        "                n_player,\n",
        "                lambda j: (\n",
        "                    role_estimation2[role, j]\n",
        "                    - assumption_array_list[day_optimize, role, i, j]\n",
        "                )\n",
        "                ** 2,\n",
        "            ),\n",
        "        ),\n",
        "    )\n",
        "\n",
        "    player_constraints = []\n",
        "    for i in range(n_player):\n",
        "        player_constraints.append(one_hot(role_estimation2[:, i].sum()))\n",
        "\n",
        "    log_constraints_role = []\n",
        "    for f in constraints_list_role:\n",
        "        log_constraints_role.append(f())\n",
        "\n",
        "    role_constraints = sum(\n",
        "        equal_to(role_estimation2[0].sum(), n_villager)\n",
        "        + equal_to(role_estimation2[1].sum(), n_seer)\n",
        "        + equal_to(role_estimation2[2].sum(), n_guard)\n",
        "        + equal_to(role_estimation2[3].sum(), n_medium)\n",
        "        + equal_to(role_estimation2[4].sum(), n_werewolf)\n",
        "        + equal_to(role_estimation2[5].sum(), n_possessed)\n",
        "    )\n",
        "\n",
        "    constraints_role = (\n",
        "        sum(log_constraints_role) + sum(player_constraints) + role_constraints\n",
        "    )\n",
        "\n",
        "    model_role = cost_role + penalty * constraints_role\n",
        "    result_role = solver.solve(model_role)\n",
        "\n",
        "    if len(result_role.solutions) == 0:\n",
        "        raise RuntimeError(\"Any one of constraints is not satisfied.\")\n",
        "\n",
        "energy3 = result_role.solutions[0].energy\n",
        "values3 = result_role.solutions[0].values\n",
        "role_values = role_estimation2.decode(values3)\n",
        "\n",
        "assumption_role = {}\n",
        "for i in range(n_player):\n",
        "    for j in range(n_role):\n",
        "        if role_values[j][i] == 1:\n",
        "            assumption_role[i] = dic2[j]\n",
        "\n",
        "print(\n",
        "    \"optimization result:\\n\",\n",
        "    pd.DataFrame(list(assumption_role.items()), columns=[\"player number\", \"role\"]),\n",
        ")"
      ]
    },
    {
      "cell_type": "markdown",
      "metadata": {
        "id": "WbJwbz4z2q60"
      },
      "source": [
        "### 答え合わせ/精度確認"
      ]
    },
    {
      "cell_type": "code",
      "execution_count": 212,
      "metadata": {
        "colab": {
          "base_uri": "https://localhost:8080/"
        },
        "id": "ftPmmNdE2q60",
        "outputId": "b071b152-75ed-4be5-fff3-b247d53fd41b"
      },
      "outputs": [
        {
          "name": "stdout",
          "output_type": "stream",
          "text": [
            "{0: 'VILLAGER', 1: 'WEREWOLF', 2: 'VILLAGER', 3: 'VILLAGER', 4: 'VILLAGER', 5: 'POSSESSED', 6: 'VILLAGER', 7: 'VILLAGER', 8: 'MEDIUM', 9: 'VILLAGER', 10: 'WEREWOLF', 11: 'WEREWOLF', 12: 'SEER', 13: 'BODYGUARD', 14: 'VILLAGER'}\n"
          ]
        }
      ],
      "source": [
        "print(true_role)"
      ]
    },
    {
      "cell_type": "code",
      "execution_count": 213,
      "metadata": {
        "colab": {
          "base_uri": "https://localhost:8080/"
        },
        "id": "2r856Mjrn_01",
        "outputId": "614f94b5-f6cd-470d-e5b0-fd048dc90d32"
      },
      "outputs": [
        {
          "name": "stdout",
          "output_type": "stream",
          "text": [
            "3 / 4 players are correctly identified as wolf_camp\n",
            "seer is correctly identified\n",
            "bodyguard is correctly identified\n",
            "medium is correctly identified\n",
            "totally 13 / 15 players are correctly identified their roles\n"
          ]
        }
      ],
      "source": [
        "# role_arrayとestimated_role_arrayの乖離の評価\n",
        "wolfcamp_identification = 0\n",
        "seer_identification = 0\n",
        "medium_identification = 0\n",
        "guard_identification = 0\n",
        "total_identification = 0\n",
        "for i in range(n_role):\n",
        "    for j in range(n_player):\n",
        "        if i == 1:\n",
        "            seer_identification += int(role_values[i, j]) * role_list[i][j]\n",
        "        elif i == 2:\n",
        "            guard_identification += int(role_values[i, j]) * role_list[i][j]\n",
        "        elif i == 3:\n",
        "            medium_identification += int(role_values[i, j]) * role_list[i][j]\n",
        "        elif i == 4:\n",
        "            wolfcamp_identification += int(role_values[i, j]) * role_list[i][j]\n",
        "            wolfcamp_identification += int(role_values[i, j]) * role_list[i + 1][j]\n",
        "        elif i == 5:\n",
        "            wolfcamp_identification += int(role_values[i, j]) * role_list[i][j]\n",
        "            wolfcamp_identification += int(role_values[i, j]) * role_list[i - 1][j]\n",
        "        total_identification += int(role_values[i, j]) * role_list[i][j]\n",
        "\n",
        "print(wolfcamp_identification, \"/ 4 players are correctly identified as wolf_camp\")\n",
        "if seer_identification == 1:\n",
        "    print(\"seer is correctly identified\")\n",
        "else:\n",
        "    print(\"seer is incorrectly identified\")\n",
        "if guard_identification == 1:\n",
        "    print(\"bodyguard is correctly identified\")\n",
        "else:\n",
        "    print(\"bodyguard is incorrectly identified\")\n",
        "if medium_identification == 1:\n",
        "    print(\"medium is correctly identified\")\n",
        "else:\n",
        "    print(\"medium is incorrectly identified\")\n",
        "print(\n",
        "    \"totally\", total_identification, \"/ 15 players are correctly identified their roles\"\n",
        ")"
      ]
    },
    {
      "cell_type": "markdown",
      "metadata": {
        "id": "fbYnQLLl2q60"
      },
      "source": [
        "### 相関関係の可視化"
      ]
    },
    {
      "cell_type": "code",
      "execution_count": 214,
      "metadata": {
        "colab": {
          "base_uri": "https://localhost:8080/",
          "height": 336
        },
        "id": "X1hOk7wr2q60",
        "outputId": "f850daad-a2dc-4d88-c3c7-3d110468552e"
      },
      "outputs": [
        {
          "name": "stdout",
          "output_type": "stream",
          "text": [
            "true_role graph:\n"
          ]
        },
        {
          "data": {
            "image/png": "[encoded data removed]",
            "text/plain": [
              "<Figure size 432x288 with 1 Axes>"
            ]
          },
          "metadata": {},
          "output_type": "display_data"
        }
      ],
      "source": [
        "import matplotlib.pyplot as plt\n",
        "import networkx as nx\n",
        "\n",
        "G = nx.complete_graph(n_player)\n",
        "for (u, v) in G.edges():\n",
        "    G.edges[(u, v)][\"weight\"] = hatred_list[day-2][u][v]\n",
        "\n",
        "assumption_role = {}\n",
        "for i in range(n_player):\n",
        "    for j in range(n_role):\n",
        "        if role_values[j][i] == 1:\n",
        "            assumption_role[i] = dic2[j]\n",
        "\n",
        "color_map = []\n",
        "for node in G:\n",
        "    if true_role[node] == \"WEREWOLF\":\n",
        "        color_map.append(\"red\")\n",
        "    elif true_role[node] == \"POSSESSED\":\n",
        "        color_map.append(\"gray\")\n",
        "    elif true_role[node] == \"SEER\":\n",
        "        color_map.append(\"lightblue\")\n",
        "    elif true_role[node] == \"MEDIUM\":\n",
        "        color_map.append(\"purple\")\n",
        "    elif true_role[node] == \"BODYGUARD\":\n",
        "        color_map.append(\"yellow\")\n",
        "    else:\n",
        "        color_map.append(\"white\")\n",
        "\n",
        "nx.draw(G, node_color=color_map, with_labels=True, width=0.3)\n",
        "print(\"true_role graph:\")\n",
        "plt.show()"
      ]
    },
    {
      "cell_type": "markdown",
      "metadata": {
        "id": "3-iQuLH4obdR"
      },
      "source": [
        "実際の役職に関して赤が人狼, 灰色が狂人, 黄色が守護者, 水色が占い師, 紫色が霊媒師として相関関係が無向グラフで出力されています。"
      ]
    }
  ],
  "metadata": {
    "colab": {
      "collapsed_sections": [
        "qg6gziVE2q6o",
        "by-FFebGjccc",
        "oloxY5IF2q60"
      ],
      "name": "AIWolf_role_estimation_final.ipynb",
      "provenance": []
    },
    "kernelspec": {
      "display_name": "Python 3.8.10 ('ai-wolf-D9UqFamA')",
      "language": "python",
      "name": "python3"
    },
    "language_info": {
      "codemirror_mode": {
        "name": "ipython",
        "version": 3
      },
      "file_extension": ".py",
      "mimetype": "text/x-python",
      "name": "python",
      "nbconvert_exporter": "python",
      "pygments_lexer": "ipython3",
      "version": "3.8.10"
    },
    "vscode": {
      "interpreter": {
        "hash": "5df7b522445149ba75e87cced2a85f7436bc233e6c75f398a0a4e8ce08fd117a"
      }
    },
    "widgets": {
      "application/vnd.jupyter.widget-state+json": {
        "00c1a472c8cd4392b893a75538de2128": {
          "model_module": "@jupyter-widgets/base",
          "model_module_version": "1.2.0",
          "model_name": "LayoutModel",
          "state": {
            "_model_module": "@jupyter-widgets/base",
            "_model_module_version": "1.2.0",
            "_model_name": "LayoutModel",
            "_view_count": null,
            "_view_module": "@jupyter-widgets/base",
            "_view_module_version": "1.2.0",
            "_view_name": "LayoutView",
            "align_content": null,
            "align_items": null,
            "align_self": null,
            "border": null,
            "bottom": null,
            "display": null,
            "flex": null,
            "flex_flow": null,
            "grid_area": null,
            "grid_auto_columns": null,
            "grid_auto_flow": null,
            "grid_auto_rows": null,
            "grid_column": null,
            "grid_gap": null,
            "grid_row": null,
            "grid_template_areas": null,
            "grid_template_columns": null,
            "grid_template_rows": null,
            "height": null,
            "justify_content": null,
            "justify_items": null,
            "left": null,
            "margin": null,
            "max_height": null,
            "max_width": null,
            "min_height": null,
            "min_width": null,
            "object_fit": null,
            "object_position": null,
            "order": null,
            "overflow": null,
            "overflow_x": null,
            "overflow_y": null,
            "padding": null,
            "right": null,
            "top": null,
            "visibility": null,
            "width": null
          }
        },
        "0253eaa8ac9a455891d0f766d26c6a17": {
          "model_module": "@jupyter-widgets/controls",
          "model_module_version": "1.5.0",
          "model_name": "VBoxModel",
          "state": {
            "_dom_classes": [
              "widget-interact"
            ],
            "_model_module": "@jupyter-widgets/controls",
            "_model_module_version": "1.5.0",
            "_model_name": "VBoxModel",
            "_view_count": null,
            "_view_module": "@jupyter-widgets/controls",
            "_view_module_version": "1.5.0",
            "_view_name": "VBoxView",
            "box_style": "",
            "children": [
              "IPY_MODEL_7bd6ad7d44164e778b3db2499b497c74",
              "IPY_MODEL_d4c653b20fe44e8fbcd35075491ea0e6"
            ],
            "layout": "IPY_MODEL_97b72544bd594a7b893d787d11bcd283"
          }
        },
        "1eb11e01b46d40f7818633fff1f1192e": {
          "model_module": "@jupyter-widgets/controls",
          "model_module_version": "1.5.0",
          "model_name": "DropdownModel",
          "state": {
            "_dom_classes": [],
            "_model_module": "@jupyter-widgets/controls",
            "_model_module_version": "1.5.0",
            "_model_name": "DropdownModel",
            "_options_labels": [
              "1",
              "2",
              "3",
              "4",
              "5",
              "6",
              "7",
              "8",
              "9",
              "10",
              "11",
              "12",
              "13",
              "14",
              "15"
            ],
            "_view_count": null,
            "_view_module": "@jupyter-widgets/controls",
            "_view_module_version": "1.5.0",
            "_view_name": "DropdownView",
            "description": "番号:",
            "description_tooltip": null,
            "disabled": false,
            "index": 0,
            "layout": "IPY_MODEL_dee0a69fe66e41bd817924568eb81eb4",
            "style": "IPY_MODEL_6f44f71b4fd1451592c5f23e780403ac"
          }
        },
        "2c5f29a8ee4a487b9ddb71492fda4a1a": {
          "model_module": "@jupyter-widgets/base",
          "model_module_version": "1.2.0",
          "model_name": "LayoutModel",
          "state": {
            "_model_module": "@jupyter-widgets/base",
            "_model_module_version": "1.2.0",
            "_model_name": "LayoutModel",
            "_view_count": null,
            "_view_module": "@jupyter-widgets/base",
            "_view_module_version": "1.2.0",
            "_view_name": "LayoutView",
            "align_content": null,
            "align_items": null,
            "align_self": null,
            "border": null,
            "bottom": null,
            "display": null,
            "flex": null,
            "flex_flow": null,
            "grid_area": null,
            "grid_auto_columns": null,
            "grid_auto_flow": null,
            "grid_auto_rows": null,
            "grid_column": null,
            "grid_gap": null,
            "grid_row": null,
            "grid_template_areas": null,
            "grid_template_columns": null,
            "grid_template_rows": null,
            "height": null,
            "justify_content": null,
            "justify_items": null,
            "left": null,
            "margin": null,
            "max_height": null,
            "max_width": null,
            "min_height": null,
            "min_width": null,
            "object_fit": null,
            "object_position": null,
            "order": null,
            "overflow": null,
            "overflow_x": null,
            "overflow_y": null,
            "padding": null,
            "right": null,
            "top": null,
            "visibility": null,
            "width": null
          }
        },
        "2d3f4534d2c042d0b067d9450bc72540": {
          "model_module": "@jupyter-widgets/base",
          "model_module_version": "1.2.0",
          "model_name": "LayoutModel",
          "state": {
            "_model_module": "@jupyter-widgets/base",
            "_model_module_version": "1.2.0",
            "_model_name": "LayoutModel",
            "_view_count": null,
            "_view_module": "@jupyter-widgets/base",
            "_view_module_version": "1.2.0",
            "_view_name": "LayoutView",
            "align_content": null,
            "align_items": null,
            "align_self": null,
            "border": null,
            "bottom": null,
            "display": null,
            "flex": null,
            "flex_flow": null,
            "grid_area": null,
            "grid_auto_columns": null,
            "grid_auto_flow": null,
            "grid_auto_rows": null,
            "grid_column": null,
            "grid_gap": null,
            "grid_row": null,
            "grid_template_areas": null,
            "grid_template_columns": null,
            "grid_template_rows": null,
            "height": null,
            "justify_content": null,
            "justify_items": null,
            "left": null,
            "margin": null,
            "max_height": null,
            "max_width": null,
            "min_height": null,
            "min_width": null,
            "object_fit": null,
            "object_position": null,
            "order": null,
            "overflow": null,
            "overflow_x": null,
            "overflow_y": null,
            "padding": null,
            "right": null,
            "top": null,
            "visibility": null,
            "width": null
          }
        },
        "35700d8b7e604f649d90892c0229a05f": {
          "model_module": "@jupyter-widgets/base",
          "model_module_version": "1.2.0",
          "model_name": "LayoutModel",
          "state": {
            "_model_module": "@jupyter-widgets/base",
            "_model_module_version": "1.2.0",
            "_model_name": "LayoutModel",
            "_view_count": null,
            "_view_module": "@jupyter-widgets/base",
            "_view_module_version": "1.2.0",
            "_view_name": "LayoutView",
            "align_content": null,
            "align_items": null,
            "align_self": null,
            "border": null,
            "bottom": null,
            "display": null,
            "flex": null,
            "flex_flow": null,
            "grid_area": null,
            "grid_auto_columns": null,
            "grid_auto_flow": null,
            "grid_auto_rows": null,
            "grid_column": null,
            "grid_gap": null,
            "grid_row": null,
            "grid_template_areas": null,
            "grid_template_columns": null,
            "grid_template_rows": null,
            "height": null,
            "justify_content": null,
            "justify_items": null,
            "left": null,
            "margin": null,
            "max_height": null,
            "max_width": null,
            "min_height": null,
            "min_width": null,
            "object_fit": null,
            "object_position": null,
            "order": null,
            "overflow": null,
            "overflow_x": null,
            "overflow_y": null,
            "padding": null,
            "right": null,
            "top": null,
            "visibility": null,
            "width": null
          }
        },
        "367f3e9bda7b40be9d6e355536b58a71": {
          "model_module": "@jupyter-widgets/base",
          "model_module_version": "1.2.0",
          "model_name": "LayoutModel",
          "state": {
            "_model_module": "@jupyter-widgets/base",
            "_model_module_version": "1.2.0",
            "_model_name": "LayoutModel",
            "_view_count": null,
            "_view_module": "@jupyter-widgets/base",
            "_view_module_version": "1.2.0",
            "_view_name": "LayoutView",
            "align_content": null,
            "align_items": null,
            "align_self": null,
            "border": null,
            "bottom": null,
            "display": null,
            "flex": null,
            "flex_flow": null,
            "grid_area": null,
            "grid_auto_columns": null,
            "grid_auto_flow": null,
            "grid_auto_rows": null,
            "grid_column": null,
            "grid_gap": null,
            "grid_row": null,
            "grid_template_areas": null,
            "grid_template_columns": null,
            "grid_template_rows": null,
            "height": null,
            "justify_content": null,
            "justify_items": null,
            "left": null,
            "margin": null,
            "max_height": null,
            "max_width": null,
            "min_height": null,
            "min_width": null,
            "object_fit": null,
            "object_position": null,
            "order": null,
            "overflow": null,
            "overflow_x": null,
            "overflow_y": null,
            "padding": null,
            "right": null,
            "top": null,
            "visibility": null,
            "width": null
          }
        },
        "3bb418e79ee24925959dea769a7f3151": {
          "model_module": "@jupyter-widgets/base",
          "model_module_version": "1.2.0",
          "model_name": "LayoutModel",
          "state": {
            "_model_module": "@jupyter-widgets/base",
            "_model_module_version": "1.2.0",
            "_model_name": "LayoutModel",
            "_view_count": null,
            "_view_module": "@jupyter-widgets/base",
            "_view_module_version": "1.2.0",
            "_view_name": "LayoutView",
            "align_content": null,
            "align_items": null,
            "align_self": null,
            "border": null,
            "bottom": null,
            "display": null,
            "flex": null,
            "flex_flow": null,
            "grid_area": null,
            "grid_auto_columns": null,
            "grid_auto_flow": null,
            "grid_auto_rows": null,
            "grid_column": null,
            "grid_gap": null,
            "grid_row": null,
            "grid_template_areas": null,
            "grid_template_columns": null,
            "grid_template_rows": null,
            "height": null,
            "justify_content": null,
            "justify_items": null,
            "left": null,
            "margin": null,
            "max_height": null,
            "max_width": null,
            "min_height": null,
            "min_width": null,
            "object_fit": null,
            "object_position": null,
            "order": null,
            "overflow": null,
            "overflow_x": null,
            "overflow_y": null,
            "padding": null,
            "right": null,
            "top": null,
            "visibility": null,
            "width": null
          }
        },
        "46ae13de235f40df926cdc3b841cb7f7": {
          "model_module": "@jupyter-widgets/base",
          "model_module_version": "1.2.0",
          "model_name": "LayoutModel",
          "state": {
            "_model_module": "@jupyter-widgets/base",
            "_model_module_version": "1.2.0",
            "_model_name": "LayoutModel",
            "_view_count": null,
            "_view_module": "@jupyter-widgets/base",
            "_view_module_version": "1.2.0",
            "_view_name": "LayoutView",
            "align_content": null,
            "align_items": null,
            "align_self": null,
            "border": null,
            "bottom": null,
            "display": null,
            "flex": null,
            "flex_flow": null,
            "grid_area": null,
            "grid_auto_columns": null,
            "grid_auto_flow": null,
            "grid_auto_rows": null,
            "grid_column": null,
            "grid_gap": null,
            "grid_row": null,
            "grid_template_areas": null,
            "grid_template_columns": null,
            "grid_template_rows": null,
            "height": null,
            "justify_content": null,
            "justify_items": null,
            "left": null,
            "margin": null,
            "max_height": null,
            "max_width": null,
            "min_height": null,
            "min_width": null,
            "object_fit": null,
            "object_position": null,
            "order": null,
            "overflow": null,
            "overflow_x": null,
            "overflow_y": null,
            "padding": null,
            "right": null,
            "top": null,
            "visibility": null,
            "width": null
          }
        },
        "46b3a57b43424329b6de2978fbde3b55": {
          "model_module": "@jupyter-widgets/controls",
          "model_module_version": "1.5.0",
          "model_name": "DescriptionStyleModel",
          "state": {
            "_model_module": "@jupyter-widgets/controls",
            "_model_module_version": "1.5.0",
            "_model_name": "DescriptionStyleModel",
            "_view_count": null,
            "_view_module": "@jupyter-widgets/base",
            "_view_module_version": "1.2.0",
            "_view_name": "StyleView",
            "description_width": ""
          }
        },
        "47924f04ff3149fe93e929fc4fc8e45a": {
          "model_module": "@jupyter-widgets/controls",
          "model_module_version": "1.5.0",
          "model_name": "DescriptionStyleModel",
          "state": {
            "_model_module": "@jupyter-widgets/controls",
            "_model_module_version": "1.5.0",
            "_model_name": "DescriptionStyleModel",
            "_view_count": null,
            "_view_module": "@jupyter-widgets/base",
            "_view_module_version": "1.2.0",
            "_view_name": "StyleView",
            "description_width": ""
          }
        },
        "49eeb9e91b144071881afbca062846c9": {
          "model_module": "@jupyter-widgets/output",
          "model_module_version": "1.0.0",
          "model_name": "OutputModel",
          "state": {
            "_dom_classes": [],
            "_model_module": "@jupyter-widgets/output",
            "_model_module_version": "1.0.0",
            "_model_name": "OutputModel",
            "_view_count": null,
            "_view_module": "@jupyter-widgets/output",
            "_view_module_version": "1.0.0",
            "_view_name": "OutputView",
            "layout": "IPY_MODEL_b05954d139f44337aca706c658f12667",
            "msg_id": "",
            "outputs": []
          }
        },
        "4ec660ed50fa4b139b60f553d94b8561": {
          "model_module": "@jupyter-widgets/controls",
          "model_module_version": "1.5.0",
          "model_name": "DropdownModel",
          "state": {
            "_dom_classes": [],
            "_model_module": "@jupyter-widgets/controls",
            "_model_module_version": "1.5.0",
            "_model_name": "DropdownModel",
            "_options_labels": [
              "1",
              "2",
              "3",
              "4",
              "5",
              "6",
              "7",
              "8",
              "9",
              "10",
              "11",
              "12",
              "13",
              "14",
              "15"
            ],
            "_view_count": null,
            "_view_module": "@jupyter-widgets/controls",
            "_view_module_version": "1.5.0",
            "_view_name": "DropdownView",
            "description": "番号:",
            "description_tooltip": null,
            "disabled": false,
            "index": 1,
            "layout": "IPY_MODEL_35700d8b7e604f649d90892c0229a05f",
            "style": "IPY_MODEL_47924f04ff3149fe93e929fc4fc8e45a"
          }
        },
        "5affe6f076ca402f8548a044fc74b619": {
          "model_module": "@jupyter-widgets/base",
          "model_module_version": "1.2.0",
          "model_name": "LayoutModel",
          "state": {
            "_model_module": "@jupyter-widgets/base",
            "_model_module_version": "1.2.0",
            "_model_name": "LayoutModel",
            "_view_count": null,
            "_view_module": "@jupyter-widgets/base",
            "_view_module_version": "1.2.0",
            "_view_name": "LayoutView",
            "align_content": null,
            "align_items": null,
            "align_self": null,
            "border": null,
            "bottom": null,
            "display": null,
            "flex": null,
            "flex_flow": null,
            "grid_area": null,
            "grid_auto_columns": null,
            "grid_auto_flow": null,
            "grid_auto_rows": null,
            "grid_column": null,
            "grid_gap": null,
            "grid_row": null,
            "grid_template_areas": null,
            "grid_template_columns": null,
            "grid_template_rows": null,
            "height": null,
            "justify_content": null,
            "justify_items": null,
            "left": null,
            "margin": null,
            "max_height": null,
            "max_width": null,
            "min_height": null,
            "min_width": null,
            "object_fit": null,
            "object_position": null,
            "order": null,
            "overflow": null,
            "overflow_x": null,
            "overflow_y": null,
            "padding": null,
            "right": null,
            "top": null,
            "visibility": null,
            "width": null
          }
        },
        "68e620834dbd4ede9d8f40ad27897887": {
          "model_module": "@jupyter-widgets/output",
          "model_module_version": "1.0.0",
          "model_name": "OutputModel",
          "state": {
            "_dom_classes": [],
            "_model_module": "@jupyter-widgets/output",
            "_model_module_version": "1.0.0",
            "_model_name": "OutputModel",
            "_view_count": null,
            "_view_module": "@jupyter-widgets/output",
            "_view_module_version": "1.0.0",
            "_view_name": "OutputView",
            "layout": "IPY_MODEL_5affe6f076ca402f8548a044fc74b619",
            "msg_id": "",
            "outputs": []
          }
        },
        "6c8510cef2c84db28273c13b3926d7e8": {
          "model_module": "@jupyter-widgets/controls",
          "model_module_version": "1.5.0",
          "model_name": "VBoxModel",
          "state": {
            "_dom_classes": [
              "widget-interact"
            ],
            "_model_module": "@jupyter-widgets/controls",
            "_model_module_version": "1.5.0",
            "_model_name": "VBoxModel",
            "_view_count": null,
            "_view_module": "@jupyter-widgets/controls",
            "_view_module_version": "1.5.0",
            "_view_name": "VBoxView",
            "box_style": "",
            "children": [
              "IPY_MODEL_ddab0ca4587c4f44b4cba1d51c484893",
              "IPY_MODEL_818aa894a5eb4c9da6f4e31c7085211b"
            ],
            "layout": "IPY_MODEL_2d3f4534d2c042d0b067d9450bc72540"
          }
        },
        "6f44f71b4fd1451592c5f23e780403ac": {
          "model_module": "@jupyter-widgets/controls",
          "model_module_version": "1.5.0",
          "model_name": "DescriptionStyleModel",
          "state": {
            "_model_module": "@jupyter-widgets/controls",
            "_model_module_version": "1.5.0",
            "_model_name": "DescriptionStyleModel",
            "_view_count": null,
            "_view_module": "@jupyter-widgets/base",
            "_view_module_version": "1.2.0",
            "_view_name": "StyleView",
            "description_width": ""
          }
        },
        "7164ae55a0c24dba9b5bcc9cbf214ede": {
          "model_module": "@jupyter-widgets/controls",
          "model_module_version": "1.5.0",
          "model_name": "VBoxModel",
          "state": {
            "_dom_classes": [
              "widget-interact"
            ],
            "_model_module": "@jupyter-widgets/controls",
            "_model_module_version": "1.5.0",
            "_model_name": "VBoxModel",
            "_view_count": null,
            "_view_module": "@jupyter-widgets/controls",
            "_view_module_version": "1.5.0",
            "_view_name": "VBoxView",
            "box_style": "",
            "children": [
              "IPY_MODEL_a46bd2c6426f46a78e0d8694632552fc",
              "IPY_MODEL_d4f2922d457b48168fc80949e25ce48e"
            ],
            "layout": "IPY_MODEL_dfc334fb9a694ae3aea47cd18f0ba50c"
          }
        },
        "7739615cbc384d98be55bb785ad926aa": {
          "model_module": "@jupyter-widgets/base",
          "model_module_version": "1.2.0",
          "model_name": "LayoutModel",
          "state": {
            "_model_module": "@jupyter-widgets/base",
            "_model_module_version": "1.2.0",
            "_model_name": "LayoutModel",
            "_view_count": null,
            "_view_module": "@jupyter-widgets/base",
            "_view_module_version": "1.2.0",
            "_view_name": "LayoutView",
            "align_content": null,
            "align_items": null,
            "align_self": null,
            "border": null,
            "bottom": null,
            "display": null,
            "flex": null,
            "flex_flow": null,
            "grid_area": null,
            "grid_auto_columns": null,
            "grid_auto_flow": null,
            "grid_auto_rows": null,
            "grid_column": null,
            "grid_gap": null,
            "grid_row": null,
            "grid_template_areas": null,
            "grid_template_columns": null,
            "grid_template_rows": null,
            "height": null,
            "justify_content": null,
            "justify_items": null,
            "left": null,
            "margin": null,
            "max_height": null,
            "max_width": null,
            "min_height": null,
            "min_width": null,
            "object_fit": null,
            "object_position": null,
            "order": null,
            "overflow": null,
            "overflow_x": null,
            "overflow_y": null,
            "padding": null,
            "right": null,
            "top": null,
            "visibility": null,
            "width": null
          }
        },
        "7bd6ad7d44164e778b3db2499b497c74": {
          "model_module": "@jupyter-widgets/controls",
          "model_module_version": "1.5.0",
          "model_name": "DropdownModel",
          "state": {
            "_dom_classes": [],
            "_model_module": "@jupyter-widgets/controls",
            "_model_module_version": "1.5.0",
            "_model_name": "DropdownModel",
            "_options_labels": [
              "0",
              "1",
              "2",
              "3",
              "4",
              "5",
              "6",
              "7",
              "8",
              "9",
              "10",
              "11",
              "12",
              "13",
              "14",
              "15",
              "16",
              "17",
              "18",
              "19",
              "20",
              "21",
              "22",
              "23",
              "24",
              "25",
              "26",
              "27",
              "28",
              "29",
              "30",
              "31",
              "32",
              "33",
              "34",
              "35",
              "36",
              "37",
              "38",
              "39",
              "40",
              "41",
              "42",
              "43",
              "44",
              "45",
              "46",
              "47",
              "48",
              "49",
              "50",
              "51",
              "52",
              "53",
              "54",
              "55",
              "56",
              "57",
              "58",
              "59",
              "60",
              "61",
              "62",
              "63",
              "64",
              "65",
              "66",
              "67",
              "68",
              "69",
              "70",
              "71",
              "72",
              "73",
              "74",
              "75",
              "76",
              "77",
              "78",
              "79",
              "80",
              "81",
              "82",
              "83",
              "84",
              "85",
              "86",
              "87",
              "88",
              "89",
              "90",
              "91",
              "92",
              "93",
              "94",
              "95",
              "96",
              "97",
              "98",
              "99"
            ],
            "_view_count": null,
            "_view_module": "@jupyter-widgets/controls",
            "_view_module_version": "1.5.0",
            "_view_name": "DropdownView",
            "description": "ログ番号:",
            "description_tooltip": null,
            "disabled": false,
            "index": 31,
            "layout": "IPY_MODEL_00c1a472c8cd4392b893a75538de2128",
            "style": "IPY_MODEL_fd38249fa8c141988de239b03803a62c"
          }
        },
        "818aa894a5eb4c9da6f4e31c7085211b": {
          "model_module": "@jupyter-widgets/output",
          "model_module_version": "1.0.0",
          "model_name": "OutputModel",
          "state": {
            "_dom_classes": [],
            "_model_module": "@jupyter-widgets/output",
            "_model_module_version": "1.0.0",
            "_model_name": "OutputModel",
            "_view_count": null,
            "_view_module": "@jupyter-widgets/output",
            "_view_module_version": "1.0.0",
            "_view_name": "OutputView",
            "layout": "IPY_MODEL_3bb418e79ee24925959dea769a7f3151",
            "msg_id": "",
            "outputs": []
          }
        },
        "8261c6cf944846f69a5d45c66794394f": {
          "model_module": "@jupyter-widgets/controls",
          "model_module_version": "1.5.0",
          "model_name": "VBoxModel",
          "state": {
            "_dom_classes": [
              "widget-interact"
            ],
            "_model_module": "@jupyter-widgets/controls",
            "_model_module_version": "1.5.0",
            "_model_name": "VBoxModel",
            "_view_count": null,
            "_view_module": "@jupyter-widgets/controls",
            "_view_module_version": "1.5.0",
            "_view_name": "VBoxView",
            "box_style": "",
            "children": [
              "IPY_MODEL_1eb11e01b46d40f7818633fff1f1192e",
              "IPY_MODEL_68e620834dbd4ede9d8f40ad27897887"
            ],
            "layout": "IPY_MODEL_2c5f29a8ee4a487b9ddb71492fda4a1a"
          }
        },
        "8b4646dab8c44cb1852109d4b2cce734": {
          "model_module": "@jupyter-widgets/controls",
          "model_module_version": "1.5.0",
          "model_name": "VBoxModel",
          "state": {
            "_dom_classes": [
              "widget-interact"
            ],
            "_model_module": "@jupyter-widgets/controls",
            "_model_module_version": "1.5.0",
            "_model_name": "VBoxModel",
            "_view_count": null,
            "_view_module": "@jupyter-widgets/controls",
            "_view_module_version": "1.5.0",
            "_view_name": "VBoxView",
            "box_style": "",
            "children": [
              "IPY_MODEL_4ec660ed50fa4b139b60f553d94b8561",
              "IPY_MODEL_49eeb9e91b144071881afbca062846c9"
            ],
            "layout": "IPY_MODEL_367f3e9bda7b40be9d6e355536b58a71"
          }
        },
        "96a6e2f979d84fc9bccb2e5ca8843ada": {
          "model_module": "@jupyter-widgets/controls",
          "model_module_version": "1.5.0",
          "model_name": "DescriptionStyleModel",
          "state": {
            "_model_module": "@jupyter-widgets/controls",
            "_model_module_version": "1.5.0",
            "_model_name": "DescriptionStyleModel",
            "_view_count": null,
            "_view_module": "@jupyter-widgets/base",
            "_view_module_version": "1.2.0",
            "_view_name": "StyleView",
            "description_width": ""
          }
        },
        "97b72544bd594a7b893d787d11bcd283": {
          "model_module": "@jupyter-widgets/base",
          "model_module_version": "1.2.0",
          "model_name": "LayoutModel",
          "state": {
            "_model_module": "@jupyter-widgets/base",
            "_model_module_version": "1.2.0",
            "_model_name": "LayoutModel",
            "_view_count": null,
            "_view_module": "@jupyter-widgets/base",
            "_view_module_version": "1.2.0",
            "_view_name": "LayoutView",
            "align_content": null,
            "align_items": null,
            "align_self": null,
            "border": null,
            "bottom": null,
            "display": null,
            "flex": null,
            "flex_flow": null,
            "grid_area": null,
            "grid_auto_columns": null,
            "grid_auto_flow": null,
            "grid_auto_rows": null,
            "grid_column": null,
            "grid_gap": null,
            "grid_row": null,
            "grid_template_areas": null,
            "grid_template_columns": null,
            "grid_template_rows": null,
            "height": null,
            "justify_content": null,
            "justify_items": null,
            "left": null,
            "margin": null,
            "max_height": null,
            "max_width": null,
            "min_height": null,
            "min_width": null,
            "object_fit": null,
            "object_position": null,
            "order": null,
            "overflow": null,
            "overflow_x": null,
            "overflow_y": null,
            "padding": null,
            "right": null,
            "top": null,
            "visibility": null,
            "width": null
          }
        },
        "a46bd2c6426f46a78e0d8694632552fc": {
          "model_module": "@jupyter-widgets/controls",
          "model_module_version": "1.5.0",
          "model_name": "DropdownModel",
          "state": {
            "_dom_classes": [],
            "_model_module": "@jupyter-widgets/controls",
            "_model_module_version": "1.5.0",
            "_model_name": "DropdownModel",
            "_options_labels": [
              "1",
              "2",
              "3",
              "4"
            ],
            "_view_count": null,
            "_view_module": "@jupyter-widgets/controls",
            "_view_module_version": "1.5.0",
            "_view_name": "DropdownView",
            "description": "分析日:",
            "description_tooltip": null,
            "disabled": false,
            "index": 0,
            "layout": "IPY_MODEL_46ae13de235f40df926cdc3b841cb7f7",
            "style": "IPY_MODEL_96a6e2f979d84fc9bccb2e5ca8843ada"
          }
        },
        "b05954d139f44337aca706c658f12667": {
          "model_module": "@jupyter-widgets/base",
          "model_module_version": "1.2.0",
          "model_name": "LayoutModel",
          "state": {
            "_model_module": "@jupyter-widgets/base",
            "_model_module_version": "1.2.0",
            "_model_name": "LayoutModel",
            "_view_count": null,
            "_view_module": "@jupyter-widgets/base",
            "_view_module_version": "1.2.0",
            "_view_name": "LayoutView",
            "align_content": null,
            "align_items": null,
            "align_self": null,
            "border": null,
            "bottom": null,
            "display": null,
            "flex": null,
            "flex_flow": null,
            "grid_area": null,
            "grid_auto_columns": null,
            "grid_auto_flow": null,
            "grid_auto_rows": null,
            "grid_column": null,
            "grid_gap": null,
            "grid_row": null,
            "grid_template_areas": null,
            "grid_template_columns": null,
            "grid_template_rows": null,
            "height": null,
            "justify_content": null,
            "justify_items": null,
            "left": null,
            "margin": null,
            "max_height": null,
            "max_width": null,
            "min_height": null,
            "min_width": null,
            "object_fit": null,
            "object_position": null,
            "order": null,
            "overflow": null,
            "overflow_x": null,
            "overflow_y": null,
            "padding": null,
            "right": null,
            "top": null,
            "visibility": null,
            "width": null
          }
        },
        "c451785252ab4bc3b66428f6d54641d4": {
          "model_module": "@jupyter-widgets/base",
          "model_module_version": "1.2.0",
          "model_name": "LayoutModel",
          "state": {
            "_model_module": "@jupyter-widgets/base",
            "_model_module_version": "1.2.0",
            "_model_name": "LayoutModel",
            "_view_count": null,
            "_view_module": "@jupyter-widgets/base",
            "_view_module_version": "1.2.0",
            "_view_name": "LayoutView",
            "align_content": null,
            "align_items": null,
            "align_self": null,
            "border": null,
            "bottom": null,
            "display": null,
            "flex": null,
            "flex_flow": null,
            "grid_area": null,
            "grid_auto_columns": null,
            "grid_auto_flow": null,
            "grid_auto_rows": null,
            "grid_column": null,
            "grid_gap": null,
            "grid_row": null,
            "grid_template_areas": null,
            "grid_template_columns": null,
            "grid_template_rows": null,
            "height": null,
            "justify_content": null,
            "justify_items": null,
            "left": null,
            "margin": null,
            "max_height": null,
            "max_width": null,
            "min_height": null,
            "min_width": null,
            "object_fit": null,
            "object_position": null,
            "order": null,
            "overflow": null,
            "overflow_x": null,
            "overflow_y": null,
            "padding": null,
            "right": null,
            "top": null,
            "visibility": null,
            "width": null
          }
        },
        "d4c653b20fe44e8fbcd35075491ea0e6": {
          "model_module": "@jupyter-widgets/output",
          "model_module_version": "1.0.0",
          "model_name": "OutputModel",
          "state": {
            "_dom_classes": [],
            "_model_module": "@jupyter-widgets/output",
            "_model_module_version": "1.0.0",
            "_model_name": "OutputModel",
            "_view_count": null,
            "_view_module": "@jupyter-widgets/output",
            "_view_module_version": "1.0.0",
            "_view_name": "OutputView",
            "layout": "IPY_MODEL_7739615cbc384d98be55bb785ad926aa",
            "msg_id": "",
            "outputs": []
          }
        },
        "d4f2922d457b48168fc80949e25ce48e": {
          "model_module": "@jupyter-widgets/output",
          "model_module_version": "1.0.0",
          "model_name": "OutputModel",
          "state": {
            "_dom_classes": [],
            "_model_module": "@jupyter-widgets/output",
            "_model_module_version": "1.0.0",
            "_model_name": "OutputModel",
            "_view_count": null,
            "_view_module": "@jupyter-widgets/output",
            "_view_module_version": "1.0.0",
            "_view_name": "OutputView",
            "layout": "IPY_MODEL_eef2679a089049848bce7148aad6c681",
            "msg_id": "",
            "outputs": []
          }
        },
        "ddab0ca4587c4f44b4cba1d51c484893": {
          "model_module": "@jupyter-widgets/controls",
          "model_module_version": "1.5.0",
          "model_name": "DropdownModel",
          "state": {
            "_dom_classes": [],
            "_model_module": "@jupyter-widgets/controls",
            "_model_module_version": "1.5.0",
            "_model_name": "DropdownModel",
            "_options_labels": [
              "1",
              "2",
              "3"
            ],
            "_view_count": null,
            "_view_module": "@jupyter-widgets/controls",
            "_view_module_version": "1.5.0",
            "_view_name": "DropdownView",
            "description": "分析日:",
            "description_tooltip": null,
            "disabled": false,
            "index": 1,
            "layout": "IPY_MODEL_c451785252ab4bc3b66428f6d54641d4",
            "style": "IPY_MODEL_46b3a57b43424329b6de2978fbde3b55"
          }
        },
        "dee0a69fe66e41bd817924568eb81eb4": {
          "model_module": "@jupyter-widgets/base",
          "model_module_version": "1.2.0",
          "model_name": "LayoutModel",
          "state": {
            "_model_module": "@jupyter-widgets/base",
            "_model_module_version": "1.2.0",
            "_model_name": "LayoutModel",
            "_view_count": null,
            "_view_module": "@jupyter-widgets/base",
            "_view_module_version": "1.2.0",
            "_view_name": "LayoutView",
            "align_content": null,
            "align_items": null,
            "align_self": null,
            "border": null,
            "bottom": null,
            "display": null,
            "flex": null,
            "flex_flow": null,
            "grid_area": null,
            "grid_auto_columns": null,
            "grid_auto_flow": null,
            "grid_auto_rows": null,
            "grid_column": null,
            "grid_gap": null,
            "grid_row": null,
            "grid_template_areas": null,
            "grid_template_columns": null,
            "grid_template_rows": null,
            "height": null,
            "justify_content": null,
            "justify_items": null,
            "left": null,
            "margin": null,
            "max_height": null,
            "max_width": null,
            "min_height": null,
            "min_width": null,
            "object_fit": null,
            "object_position": null,
            "order": null,
            "overflow": null,
            "overflow_x": null,
            "overflow_y": null,
            "padding": null,
            "right": null,
            "top": null,
            "visibility": null,
            "width": null
          }
        },
        "dfc334fb9a694ae3aea47cd18f0ba50c": {
          "model_module": "@jupyter-widgets/base",
          "model_module_version": "1.2.0",
          "model_name": "LayoutModel",
          "state": {
            "_model_module": "@jupyter-widgets/base",
            "_model_module_version": "1.2.0",
            "_model_name": "LayoutModel",
            "_view_count": null,
            "_view_module": "@jupyter-widgets/base",
            "_view_module_version": "1.2.0",
            "_view_name": "LayoutView",
            "align_content": null,
            "align_items": null,
            "align_self": null,
            "border": null,
            "bottom": null,
            "display": null,
            "flex": null,
            "flex_flow": null,
            "grid_area": null,
            "grid_auto_columns": null,
            "grid_auto_flow": null,
            "grid_auto_rows": null,
            "grid_column": null,
            "grid_gap": null,
            "grid_row": null,
            "grid_template_areas": null,
            "grid_template_columns": null,
            "grid_template_rows": null,
            "height": null,
            "justify_content": null,
            "justify_items": null,
            "left": null,
            "margin": null,
            "max_height": null,
            "max_width": null,
            "min_height": null,
            "min_width": null,
            "object_fit": null,
            "object_position": null,
            "order": null,
            "overflow": null,
            "overflow_x": null,
            "overflow_y": null,
            "padding": null,
            "right": null,
            "top": null,
            "visibility": null,
            "width": null
          }
        },
        "eef2679a089049848bce7148aad6c681": {
          "model_module": "@jupyter-widgets/base",
          "model_module_version": "1.2.0",
          "model_name": "LayoutModel",
          "state": {
            "_model_module": "@jupyter-widgets/base",
            "_model_module_version": "1.2.0",
            "_model_name": "LayoutModel",
            "_view_count": null,
            "_view_module": "@jupyter-widgets/base",
            "_view_module_version": "1.2.0",
            "_view_name": "LayoutView",
            "align_content": null,
            "align_items": null,
            "align_self": null,
            "border": null,
            "bottom": null,
            "display": null,
            "flex": null,
            "flex_flow": null,
            "grid_area": null,
            "grid_auto_columns": null,
            "grid_auto_flow": null,
            "grid_auto_rows": null,
            "grid_column": null,
            "grid_gap": null,
            "grid_row": null,
            "grid_template_areas": null,
            "grid_template_columns": null,
            "grid_template_rows": null,
            "height": null,
            "justify_content": null,
            "justify_items": null,
            "left": null,
            "margin": null,
            "max_height": null,
            "max_width": null,
            "min_height": null,
            "min_width": null,
            "object_fit": null,
            "object_position": null,
            "order": null,
            "overflow": null,
            "overflow_x": null,
            "overflow_y": null,
            "padding": null,
            "right": null,
            "top": null,
            "visibility": null,
            "width": null
          }
        },
        "fd38249fa8c141988de239b03803a62c": {
          "model_module": "@jupyter-widgets/controls",
          "model_module_version": "1.5.0",
          "model_name": "DescriptionStyleModel",
          "state": {
            "_model_module": "@jupyter-widgets/controls",
            "_model_module_version": "1.5.0",
            "_model_name": "DescriptionStyleModel",
            "_view_count": null,
            "_view_module": "@jupyter-widgets/base",
            "_view_module_version": "1.2.0",
            "_view_name": "StyleView",
            "description_width": ""
          }
        }
      }
    }
  },
  "nbformat": 4,
  "nbformat_minor": 0
}
